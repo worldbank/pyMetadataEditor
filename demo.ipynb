{
 "cells": [
  {
   "cell_type": "markdown",
   "metadata": {},
   "source": [
    "# How to use Metadata Editor"
   ]
  },
  {
   "cell_type": "code",
   "execution_count": 1,
   "metadata": {},
   "outputs": [],
   "source": [
    "from pymetadataeditor import MetadataEditor"
   ]
  },
  {
   "cell_type": "markdown",
   "metadata": {},
   "source": [
    "## Examples of the interface"
   ]
  },
  {
   "cell_type": "code",
   "execution_count": 2,
   "metadata": {},
   "outputs": [],
   "source": [
    "your_api_key = \"<your api key here>\"\n",
    "me = MetadataEditor(your_api_key)"
   ]
  },
  {
   "cell_type": "markdown",
   "metadata": {},
   "source": [
    "### Listing your projects"
   ]
  },
  {
   "cell_type": "code",
   "execution_count": 3,
   "metadata": {},
   "outputs": [
    {
     "data": {
      "text/html": [
       "<div>\n",
       "<style scoped>\n",
       "    .dataframe tbody tr th:only-of-type {\n",
       "        vertical-align: middle;\n",
       "    }\n",
       "\n",
       "    .dataframe tbody tr th {\n",
       "        vertical-align: top;\n",
       "    }\n",
       "\n",
       "    .dataframe thead th {\n",
       "        text-align: right;\n",
       "    }\n",
       "</style>\n",
       "<table border=\"1\" class=\"dataframe\">\n",
       "  <thead>\n",
       "    <tr style=\"text-align: right;\">\n",
       "      <th></th>\n",
       "      <th>type</th>\n",
       "      <th>idno</th>\n",
       "      <th>study_idno</th>\n",
       "      <th>title</th>\n",
       "      <th>abbreviation</th>\n",
       "      <th>nation</th>\n",
       "      <th>year_start</th>\n",
       "      <th>year_end</th>\n",
       "      <th>published</th>\n",
       "      <th>created</th>\n",
       "      <th>changed</th>\n",
       "      <th>varcount</th>\n",
       "      <th>created_by</th>\n",
       "      <th>changed_by</th>\n",
       "      <th>is_shared</th>\n",
       "      <th>thumbnail</th>\n",
       "      <th>template_uid</th>\n",
       "      <th>username</th>\n",
       "      <th>username_cr</th>\n",
       "      <th>collections</th>\n",
       "    </tr>\n",
       "    <tr>\n",
       "      <th>id</th>\n",
       "      <th></th>\n",
       "      <th></th>\n",
       "      <th></th>\n",
       "      <th></th>\n",
       "      <th></th>\n",
       "      <th></th>\n",
       "      <th></th>\n",
       "      <th></th>\n",
       "      <th></th>\n",
       "      <th></th>\n",
       "      <th></th>\n",
       "      <th></th>\n",
       "      <th></th>\n",
       "      <th></th>\n",
       "      <th></th>\n",
       "      <th></th>\n",
       "      <th></th>\n",
       "      <th></th>\n",
       "      <th></th>\n",
       "      <th></th>\n",
       "    </tr>\n",
       "  </thead>\n",
       "  <tbody>\n",
       "  </tbody>\n",
       "</table>\n",
       "</div>"
      ],
      "text/plain": [
       "Empty DataFrame\n",
       "Columns: [type, idno, study_idno, title, abbreviation, nation, year_start, year_end, published, created, changed, varcount, created_by, changed_by, is_shared, thumbnail, template_uid, username, username_cr, collections]\n",
       "Index: []"
      ]
     },
     "execution_count": 3,
     "metadata": {},
     "output_type": "execute_result"
    }
   ],
   "source": [
    "me.list_projects().iloc[10:]"
   ]
  },
  {
   "cell_type": "markdown",
   "metadata": {},
   "source": [
    "### Creating a new project"
   ]
  },
  {
   "cell_type": "code",
   "execution_count": 5,
   "metadata": {},
   "outputs": [],
   "source": [
    "series_description = {\n",
    "                        \"idno\": \"GB20240617_demo1\",\n",
    "                        \"doi\": \"V1\",\n",
    "                        \"name\": \"Version 1\",\n",
    "                        \"display_name\": \"Version 1\"\n",
    "                     }\n",
    "\n",
    "me.create_timeseries(idno=\"GB20240617_demo1\",\n",
    "                     series_description=series_description)"
   ]
  },
  {
   "cell_type": "code",
   "execution_count": 7,
   "metadata": {},
   "outputs": [
    {
     "data": {
      "text/html": [
       "<div>\n",
       "<style scoped>\n",
       "    .dataframe tbody tr th:only-of-type {\n",
       "        vertical-align: middle;\n",
       "    }\n",
       "\n",
       "    .dataframe tbody tr th {\n",
       "        vertical-align: top;\n",
       "    }\n",
       "\n",
       "    .dataframe thead th {\n",
       "        text-align: right;\n",
       "    }\n",
       "</style>\n",
       "<table border=\"1\" class=\"dataframe\">\n",
       "  <thead>\n",
       "    <tr style=\"text-align: right;\">\n",
       "      <th></th>\n",
       "      <th>type</th>\n",
       "      <th>idno</th>\n",
       "      <th>study_idno</th>\n",
       "      <th>title</th>\n",
       "      <th>abbreviation</th>\n",
       "      <th>nation</th>\n",
       "      <th>year_start</th>\n",
       "      <th>year_end</th>\n",
       "      <th>published</th>\n",
       "      <th>created</th>\n",
       "      <th>changed</th>\n",
       "      <th>varcount</th>\n",
       "      <th>created_by</th>\n",
       "      <th>changed_by</th>\n",
       "      <th>is_shared</th>\n",
       "      <th>thumbnail</th>\n",
       "      <th>template_uid</th>\n",
       "      <th>username</th>\n",
       "      <th>username_cr</th>\n",
       "      <th>collections</th>\n",
       "    </tr>\n",
       "    <tr>\n",
       "      <th>id</th>\n",
       "      <th></th>\n",
       "      <th></th>\n",
       "      <th></th>\n",
       "      <th></th>\n",
       "      <th></th>\n",
       "      <th></th>\n",
       "      <th></th>\n",
       "      <th></th>\n",
       "      <th></th>\n",
       "      <th></th>\n",
       "      <th></th>\n",
       "      <th></th>\n",
       "      <th></th>\n",
       "      <th></th>\n",
       "      <th></th>\n",
       "      <th></th>\n",
       "      <th></th>\n",
       "      <th></th>\n",
       "      <th></th>\n",
       "      <th></th>\n",
       "    </tr>\n",
       "  </thead>\n",
       "  <tbody>\n",
       "    <tr>\n",
       "      <th>2659</th>\n",
       "      <td>timeseries</td>\n",
       "      <td>GB20240617_demo1</td>\n",
       "      <td>GB20240617_demo1</td>\n",
       "      <td>Version 1</td>\n",
       "      <td>None</td>\n",
       "      <td></td>\n",
       "      <td>0</td>\n",
       "      <td>0</td>\n",
       "      <td>None</td>\n",
       "      <td>2024-06-17T08:49:32-04:00</td>\n",
       "      <td>2024-06-17T08:49:32-04:00</td>\n",
       "      <td>None</td>\n",
       "      <td>63</td>\n",
       "      <td>63</td>\n",
       "      <td>None</td>\n",
       "      <td>None</td>\n",
       "      <td>30ab32c7d62aa6e2801efcf336658dbb</td>\n",
       "      <td>Gordon Blackadder</td>\n",
       "      <td>Gordon Blackadder</td>\n",
       "      <td>[]</td>\n",
       "    </tr>\n",
       "  </tbody>\n",
       "</table>\n",
       "</div>"
      ],
      "text/plain": [
       "            type              idno        study_idno      title abbreviation  \\\n",
       "id                                                                             \n",
       "2659  timeseries  GB20240617_demo1  GB20240617_demo1  Version 1         None   \n",
       "\n",
       "     nation year_start year_end published                    created  \\\n",
       "id                                                                     \n",
       "2659                 0        0      None  2024-06-17T08:49:32-04:00   \n",
       "\n",
       "                        changed varcount created_by changed_by is_shared  \\\n",
       "id                                                                         \n",
       "2659  2024-06-17T08:49:32-04:00     None         63         63      None   \n",
       "\n",
       "     thumbnail                      template_uid           username  \\\n",
       "id                                                                    \n",
       "2659      None  30ab32c7d62aa6e2801efcf336658dbb  Gordon Blackadder   \n",
       "\n",
       "            username_cr collections  \n",
       "id                                   \n",
       "2659  Gordon Blackadder          []  "
      ]
     },
     "execution_count": 7,
     "metadata": {},
     "output_type": "execute_result"
    }
   ],
   "source": [
    "me.list_projects().iloc[10:]"
   ]
  },
  {
   "cell_type": "code",
   "execution_count": 8,
   "metadata": {},
   "outputs": [
    {
     "data": {
      "text/plain": [
       "{'idno': 'GB20240617_demo1',\n",
       " 'series_description': {'idno': 'GB20240617_demo1',\n",
       "  'doi': 'V1',\n",
       "  'name': 'Version 1',\n",
       "  'display_name': 'Version 1'},\n",
       " 'changed_by': '63',\n",
       " 'changed': '1718628572'}"
      ]
     },
     "execution_count": 8,
     "metadata": {},
     "output_type": "execute_result"
    }
   ],
   "source": [
    "me.get_project_by_id(2659)['metadata']"
   ]
  },
  {
   "cell_type": "markdown",
   "metadata": {},
   "source": [
    "### Updating an existing project"
   ]
  },
  {
   "cell_type": "code",
   "execution_count": 3,
   "metadata": {},
   "outputs": [],
   "source": [
    "updated_series_description= {\n",
    "                \"idno\": \"GB20240617_demo1\",\n",
    "                \"doi\": \"V2\",\n",
    "                \"name\": \"Version 2\",\n",
    "                \"display_name\": \"Version 2\",\n",
    "                \"authoring_entity\": [{\"name\": \"example agency\"}]\n",
    "                }\n",
    "\n",
    "me.update_timeseries_by_id(2659, series_description=updated_series_description)"
   ]
  },
  {
   "cell_type": "code",
   "execution_count": 4,
   "metadata": {},
   "outputs": [
    {
     "data": {
      "text/plain": [
       "{'idno': 'GB20240617_demo1',\n",
       " 'series_description': {'idno': 'GB20240617_demo1',\n",
       "  'doi': 'V2',\n",
       "  'name': 'Version 2',\n",
       "  'display_name': 'Version 2',\n",
       "  'authoring_entity': [{'name': 'example agency'}]},\n",
       " 'changed_by': '63',\n",
       " 'changed': '1718628895'}"
      ]
     },
     "execution_count": 4,
     "metadata": {},
     "output_type": "execute_result"
    }
   ],
   "source": [
    "me.get_project_by_id(2659)['metadata']"
   ]
  },
  {
   "cell_type": "markdown",
   "metadata": {},
   "source": [
    "## Explanatory Error Messages\n",
    "\n",
    "### When the api key is invalid"
   ]
  },
  {
   "cell_type": "code",
   "execution_count": 2,
   "metadata": {},
   "outputs": [
    {
     "ename": "PermissionError",
     "evalue": "Access Denied. Check that the API key 'bad_key' is correct",
     "output_type": "error",
     "traceback": [
      "\u001b[1;31m---------------------------------------------------------------------------\u001b[0m",
      "\u001b[1;31mPermissionError\u001b[0m                           Traceback (most recent call last)",
      "Cell \u001b[1;32mIn[2], line 3\u001b[0m\n\u001b[0;32m      1\u001b[0m api_key \u001b[38;5;241m=\u001b[39m \u001b[38;5;124m\"\u001b[39m\u001b[38;5;124mbad_key\u001b[39m\u001b[38;5;124m\"\u001b[39m\n\u001b[0;32m      2\u001b[0m me_bad \u001b[38;5;241m=\u001b[39m MetadataEditor(api_key)\n\u001b[1;32m----> 3\u001b[0m \u001b[43mme_bad\u001b[49m\u001b[38;5;241;43m.\u001b[39;49m\u001b[43mlist_projects\u001b[49m\u001b[43m(\u001b[49m\u001b[43m)\u001b[49m\n",
      "File \u001b[1;32mc:\\Users\\wb625523\\sources\\pyMetadataEditor\\pymetadataeditor\\interface.py:123\u001b[0m, in \u001b[0;36mMetadataEditor.list_projects\u001b[1;34m(self)\u001b[0m\n\u001b[0;32m    115\u001b[0m \u001b[38;5;250m\u001b[39m\u001b[38;5;124;03m\"\"\"\u001b[39;00m\n\u001b[0;32m    116\u001b[0m \u001b[38;5;124;03mLists all the projects associated with your API key which are listed at\u001b[39;00m\n\u001b[0;32m    117\u001b[0m \u001b[38;5;124;03mhttps://metadataeditorqa.worldbank.org/\u001b[39;00m\n\u001b[1;32m   (...)\u001b[0m\n\u001b[0;32m    120\u001b[0m \u001b[38;5;124;03m    pd.DataFrame: Projects sorted by the date on which they were created\u001b[39;00m\n\u001b[0;32m    121\u001b[0m \u001b[38;5;124;03m\"\"\"\u001b[39;00m\n\u001b[0;32m    122\u001b[0m list_projects_get_url \u001b[38;5;241m=\u001b[39m \u001b[38;5;124m\"\u001b[39m\u001b[38;5;124mhttps://metadataeditorqa.worldbank.org/index.php/api/editor\u001b[39m\u001b[38;5;124m\"\u001b[39m\n\u001b[1;32m--> 123\u001b[0m response \u001b[38;5;241m=\u001b[39m \u001b[38;5;28;43mself\u001b[39;49m\u001b[38;5;241;43m.\u001b[39;49m\u001b[43m_get_request\u001b[49m\u001b[43m(\u001b[49m\u001b[43mlist_projects_get_url\u001b[49m\u001b[43m)\u001b[49m\n\u001b[0;32m    124\u001b[0m projects \u001b[38;5;241m=\u001b[39m response[\u001b[38;5;124m\"\u001b[39m\u001b[38;5;124mprojects\u001b[39m\u001b[38;5;124m\"\u001b[39m]\n\u001b[0;32m    126\u001b[0m \u001b[38;5;28;01mreturn\u001b[39;00m pd\u001b[38;5;241m.\u001b[39mDataFrame\u001b[38;5;241m.\u001b[39mfrom_dict(projects)\u001b[38;5;241m.\u001b[39mset_index(\u001b[38;5;124m\"\u001b[39m\u001b[38;5;124mid\u001b[39m\u001b[38;5;124m\"\u001b[39m)\u001b[38;5;241m.\u001b[39msort_values(\u001b[38;5;124m\"\u001b[39m\u001b[38;5;124mcreated\u001b[39m\u001b[38;5;124m\"\u001b[39m)\n",
      "File \u001b[1;32mc:\\Users\\wb625523\\sources\\pyMetadataEditor\\pymetadataeditor\\interface.py:101\u001b[0m, in \u001b[0;36mMetadataEditor._get_request\u001b[1;34m(self, url, id)\u001b[0m\n\u001b[0;32m     93\u001b[0m \u001b[38;5;28;01mdef\u001b[39;00m \u001b[38;5;21m_get_request\u001b[39m(\u001b[38;5;28mself\u001b[39m, url: \u001b[38;5;28mstr\u001b[39m, \u001b[38;5;28mid\u001b[39m: Optional[Union[\u001b[38;5;28mint\u001b[39m, \u001b[38;5;28mstr\u001b[39m]] \u001b[38;5;241m=\u001b[39m \u001b[38;5;28;01mNone\u001b[39;00m) \u001b[38;5;241m-\u001b[39m\u001b[38;5;241m>\u001b[39m Dict:\n\u001b[0;32m     94\u001b[0m \u001b[38;5;250m    \u001b[39m\u001b[38;5;124;03m\"\"\"\u001b[39;00m\n\u001b[0;32m     95\u001b[0m \u001b[38;5;124;03m    Args:\u001b[39;00m\n\u001b[0;32m     96\u001b[0m \u001b[38;5;124;03m        url (str): The URL to which the GET request is sent.\u001b[39;00m\n\u001b[1;32m   (...)\u001b[0m\n\u001b[0;32m     99\u001b[0m \u001b[38;5;124;03m        Dict[str, str]: The JSON response from the server, parsed into a dictionary.\u001b[39;00m\n\u001b[0;32m    100\u001b[0m \u001b[38;5;124;03m    \"\"\"\u001b[39;00m\n\u001b[1;32m--> 101\u001b[0m     \u001b[38;5;28;01mreturn\u001b[39;00m \u001b[38;5;28;43mself\u001b[39;49m\u001b[38;5;241;43m.\u001b[39;49m\u001b[43m_request\u001b[49m\u001b[43m(\u001b[49m\u001b[38;5;124;43m\"\u001b[39;49m\u001b[38;5;124;43mget\u001b[39;49m\u001b[38;5;124;43m\"\u001b[39;49m\u001b[43m,\u001b[49m\u001b[43m \u001b[49m\u001b[43murl\u001b[49m\u001b[38;5;241;43m=\u001b[39;49m\u001b[43murl\u001b[49m\u001b[43m,\u001b[49m\u001b[43m \u001b[49m\u001b[38;5;28;43mid\u001b[39;49m\u001b[38;5;241;43m=\u001b[39;49m\u001b[38;5;28;43mid\u001b[39;49m\u001b[43m)\u001b[49m\n",
      "File \u001b[1;32mc:\\Users\\wb625523\\sources\\pyMetadataEditor\\pymetadataeditor\\interface.py:82\u001b[0m, in \u001b[0;36mMetadataEditor._request\u001b[1;34m(self, method, url, json, id)\u001b[0m\n\u001b[0;32m     80\u001b[0m \u001b[38;5;28;01mexcept\u001b[39;00m HTTPError \u001b[38;5;28;01mas\u001b[39;00m e:\n\u001b[0;32m     81\u001b[0m     \u001b[38;5;28;01mif\u001b[39;00m response\u001b[38;5;241m.\u001b[39mstatus_code \u001b[38;5;241m==\u001b[39m \u001b[38;5;241m403\u001b[39m:\n\u001b[1;32m---> 82\u001b[0m         \u001b[38;5;28;01mraise\u001b[39;00m \u001b[38;5;167;01mPermissionError\u001b[39;00m(\u001b[38;5;124mf\u001b[39m\u001b[38;5;124m\"\u001b[39m\u001b[38;5;124mAccess Denied. Check that the API key \u001b[39m\u001b[38;5;124m'\u001b[39m\u001b[38;5;132;01m{\u001b[39;00m\u001b[38;5;28mself\u001b[39m\u001b[38;5;241m.\u001b[39mapi_key\u001b[38;5;132;01m}\u001b[39;00m\u001b[38;5;124m'\u001b[39m\u001b[38;5;124m is correct\u001b[39m\u001b[38;5;124m\"\u001b[39m) \u001b[38;5;28;01mfrom\u001b[39;00m \u001b[38;5;28;01mNone\u001b[39;00m\n\u001b[0;32m     83\u001b[0m     \u001b[38;5;28;01melif\u001b[39;00m response\u001b[38;5;241m.\u001b[39mstatus_code \u001b[38;5;241m==\u001b[39m \u001b[38;5;241m400\u001b[39m \u001b[38;5;129;01mand\u001b[39;00m \u001b[38;5;28mid\u001b[39m \u001b[38;5;129;01mis\u001b[39;00m \u001b[38;5;129;01mnot\u001b[39;00m \u001b[38;5;28;01mNone\u001b[39;00m:\n\u001b[0;32m     84\u001b[0m         \u001b[38;5;28;01mraise\u001b[39;00m \u001b[38;5;167;01mPermissionError\u001b[39;00m(\u001b[38;5;124mf\u001b[39m\u001b[38;5;124m\"\u001b[39m\u001b[38;5;124mAccess Denied. Check that the id \u001b[39m\u001b[38;5;124m'\u001b[39m\u001b[38;5;132;01m{\u001b[39;00m\u001b[38;5;28mid\u001b[39m\u001b[38;5;132;01m}\u001b[39;00m\u001b[38;5;124m'\u001b[39m\u001b[38;5;124m is correct\u001b[39m\u001b[38;5;124m\"\u001b[39m) \u001b[38;5;28;01mfrom\u001b[39;00m \u001b[38;5;28;01mNone\u001b[39;00m\n",
      "\u001b[1;31mPermissionError\u001b[0m: Access Denied. Check that the API key 'bad_key' is correct"
     ]
    }
   ],
   "source": [
    "api_key = \"bad_key\"\n",
    "me_bad = MetadataEditor(api_key)\n",
    "me_bad.list_projects()"
   ]
  },
  {
   "cell_type": "markdown",
   "metadata": {},
   "source": [
    "### When required data is missing or the type is incorred"
   ]
  },
  {
   "cell_type": "code",
   "execution_count": 3,
   "metadata": {},
   "outputs": [
    {
     "ename": "ValueError",
     "evalue": "\nstring_type: series_description.idno input should be a valid string\nmissing: series_description.name field required",
     "output_type": "error",
     "traceback": [
      "\u001b[1;31m---------------------------------------------------------------------------\u001b[0m",
      "\u001b[1;31mValueError\u001b[0m                                Traceback (most recent call last)",
      "Cell \u001b[1;32mIn[3], line 6\u001b[0m\n\u001b[0;32m      1\u001b[0m series_description \u001b[38;5;241m=\u001b[39m {\n\u001b[0;32m      2\u001b[0m                         \u001b[38;5;124m\"\u001b[39m\u001b[38;5;124midno\u001b[39m\u001b[38;5;124m\"\u001b[39m: \u001b[38;5;241m17\u001b[39m,\n\u001b[0;32m      3\u001b[0m                         \u001b[38;5;124m\"\u001b[39m\u001b[38;5;124mdoi\u001b[39m\u001b[38;5;124m\"\u001b[39m: \u001b[38;5;124m\"\u001b[39m\u001b[38;5;124mdemoV1\u001b[39m\u001b[38;5;124m\"\u001b[39m,\n\u001b[0;32m      4\u001b[0m                      }\n\u001b[1;32m----> 6\u001b[0m \u001b[43mme\u001b[49m\u001b[38;5;241;43m.\u001b[39;49m\u001b[43mcreate_timeseries\u001b[49m\u001b[43m(\u001b[49m\u001b[43midno\u001b[49m\u001b[38;5;241;43m=\u001b[39;49m\u001b[38;5;124;43m\"\u001b[39;49m\u001b[38;5;124;43mGB20240617_demo3\u001b[39;49m\u001b[38;5;124;43m\"\u001b[39;49m\u001b[43m,\u001b[49m\n\u001b[0;32m      7\u001b[0m \u001b[43m                     \u001b[49m\u001b[43mseries_description\u001b[49m\u001b[38;5;241;43m=\u001b[39;49m\u001b[43mseries_description\u001b[49m\u001b[43m)\u001b[49m\n",
      "File \u001b[1;32mc:\\Users\\wb625523\\sources\\pyMetadataEditor\\pymetadataeditor\\interface.py:209\u001b[0m, in \u001b[0;36mMetadataEditor.create_timeseries\u001b[1;34m(self, idno, series_description, metadata_information, datacite, provenance, tags, additional)\u001b[0m\n\u001b[0;32m    193\u001b[0m \u001b[38;5;66;03m# todo(gblackadder): question - why does pyNada create_timeseries_dataset include args:\u001b[39;00m\n\u001b[0;32m    194\u001b[0m \u001b[38;5;66;03m#        repositroy_id, access_policy,  data_remote_url,  published\u001b[39;00m\n\u001b[0;32m    195\u001b[0m \u001b[38;5;66;03m#   that aren't in the schema, and doesn't include args that are:\u001b[39;00m\n\u001b[0;32m    196\u001b[0m \u001b[38;5;66;03m#        datacite, provenance, tags\u001b[39;00m\n\u001b[0;32m    197\u001b[0m \u001b[38;5;66;03m#   https://metadataeditorqa.worldbank.org/api-documentation/editor/#tag/Timeseries\u001b[39;00m\n\u001b[0;32m    199\u001b[0m metadata \u001b[38;5;241m=\u001b[39m {\n\u001b[0;32m    200\u001b[0m     \u001b[38;5;124m\"\u001b[39m\u001b[38;5;124midno\u001b[39m\u001b[38;5;124m\"\u001b[39m: idno,\n\u001b[0;32m    201\u001b[0m     \u001b[38;5;124m\"\u001b[39m\u001b[38;5;124mmetadata_information\u001b[39m\u001b[38;5;124m\"\u001b[39m: metadata_information,\n\u001b[1;32m   (...)\u001b[0m\n\u001b[0;32m    206\u001b[0m     \u001b[38;5;124m\"\u001b[39m\u001b[38;5;124madditional\u001b[39m\u001b[38;5;124m\"\u001b[39m: additional,\n\u001b[0;32m    207\u001b[0m }\n\u001b[1;32m--> 209\u001b[0m \u001b[43mvalidate_metadata\u001b[49m\u001b[43m(\u001b[49m\u001b[43mmetadata\u001b[49m\u001b[43m,\u001b[49m\u001b[43m \u001b[49m\u001b[43mTimeSeriesMetadataSchema\u001b[49m\u001b[43m)\u001b[49m\n\u001b[0;32m    210\u001b[0m ts \u001b[38;5;241m=\u001b[39m TimeSeriesMetadataSchema(\u001b[38;5;241m*\u001b[39m\u001b[38;5;241m*\u001b[39mmetadata)\n\u001b[0;32m    212\u001b[0m post_request_url \u001b[38;5;241m=\u001b[39m \u001b[38;5;124m\"\u001b[39m\u001b[38;5;124mhttps://metadataeditorqa.worldbank.org/index.php/api/editor/create/timeseries\u001b[39m\u001b[38;5;124m\"\u001b[39m\n",
      "File \u001b[1;32mc:\\Users\\wb625523\\sources\\pyMetadataEditor\\pymetadataeditor\\tools.py:49\u001b[0m, in \u001b[0;36mvalidate_metadata\u001b[1;34m(metadata, schema_definition)\u001b[0m\n\u001b[0;32m     47\u001b[0m \u001b[38;5;28;01mexcept\u001b[39;00m ValidationError \u001b[38;5;28;01mas\u001b[39;00m e:\n\u001b[0;32m     48\u001b[0m     formatted_error_message \u001b[38;5;241m=\u001b[39m _format_errors(e\u001b[38;5;241m.\u001b[39merrors())\n\u001b[1;32m---> 49\u001b[0m     \u001b[38;5;28;01mraise\u001b[39;00m \u001b[38;5;167;01mValueError\u001b[39;00m(formatted_error_message) \u001b[38;5;28;01mfrom\u001b[39;00m \u001b[38;5;28;01mNone\u001b[39;00m\n",
      "\u001b[1;31mValueError\u001b[0m: \nstring_type: series_description.idno input should be a valid string\nmissing: series_description.name field required"
     ]
    }
   ],
   "source": [
    "series_description = {\n",
    "                        \"idno\": 17,\n",
    "                        \"doi\": \"demoV1\",\n",
    "                     }\n",
    "\n",
    "me.create_timeseries(idno=\"GB20240617_demo3\",\n",
    "                     series_description=series_description)"
   ]
  },
  {
   "cell_type": "markdown",
   "metadata": {},
   "source": [
    "### When the id is incorrect"
   ]
  },
  {
   "cell_type": "code",
   "execution_count": 4,
   "metadata": {},
   "outputs": [
    {
     "ename": "PermissionError",
     "evalue": "Access Denied. Check that the id '1' is correct",
     "output_type": "error",
     "traceback": [
      "\u001b[1;31m---------------------------------------------------------------------------\u001b[0m",
      "\u001b[1;31mPermissionError\u001b[0m                           Traceback (most recent call last)",
      "Cell \u001b[1;32mIn[4], line 9\u001b[0m\n\u001b[0;32m      1\u001b[0m series_description\u001b[38;5;241m=\u001b[39m {\n\u001b[0;32m      2\u001b[0m                 \u001b[38;5;124m\"\u001b[39m\u001b[38;5;124midno\u001b[39m\u001b[38;5;124m\"\u001b[39m: \u001b[38;5;124m\"\u001b[39m\u001b[38;5;124mGB20240617_demo1\u001b[39m\u001b[38;5;124m\"\u001b[39m,\n\u001b[0;32m      3\u001b[0m                 \u001b[38;5;124m\"\u001b[39m\u001b[38;5;124mdoi\u001b[39m\u001b[38;5;124m\"\u001b[39m: \u001b[38;5;124m\"\u001b[39m\u001b[38;5;124mV2\u001b[39m\u001b[38;5;124m\"\u001b[39m,\n\u001b[1;32m   (...)\u001b[0m\n\u001b[0;32m      6\u001b[0m                 \u001b[38;5;124m\"\u001b[39m\u001b[38;5;124mauthoring_entity\u001b[39m\u001b[38;5;124m\"\u001b[39m: [{\u001b[38;5;124m\"\u001b[39m\u001b[38;5;124mname\u001b[39m\u001b[38;5;124m\"\u001b[39m: \u001b[38;5;124m\"\u001b[39m\u001b[38;5;124mexample agency\u001b[39m\u001b[38;5;124m\"\u001b[39m}]\n\u001b[0;32m      7\u001b[0m                 }\n\u001b[1;32m----> 9\u001b[0m \u001b[43mme\u001b[49m\u001b[38;5;241;43m.\u001b[39;49m\u001b[43mupdate_timeseries_by_id\u001b[49m\u001b[43m(\u001b[49m\u001b[38;5;241;43m1\u001b[39;49m\u001b[43m,\u001b[49m\n\u001b[0;32m     10\u001b[0m \u001b[43m                           \u001b[49m\u001b[43mseries_description\u001b[49m\u001b[38;5;241;43m=\u001b[39;49m\u001b[43mseries_description\u001b[49m\u001b[43m)\u001b[49m\n",
      "File \u001b[1;32mc:\\Users\\wb625523\\sources\\pyMetadataEditor\\pymetadataeditor\\interface.py:253\u001b[0m, in \u001b[0;36mMetadataEditor.update_timeseries_by_id\u001b[1;34m(self, id, series_description, metadata_information, datacite, provenance, tags, additional)\u001b[0m\n\u001b[0;32m    226\u001b[0m \u001b[38;5;250m\u001b[39m\u001b[38;5;124;03m\"\"\"\u001b[39;00m\n\u001b[0;32m    227\u001b[0m \u001b[38;5;124;03mArgs:\u001b[39;00m\n\u001b[0;32m    228\u001b[0m \u001b[38;5;124;03m    id (int): the id of the project, not to be confused with the idno.\u001b[39;00m\n\u001b[1;32m   (...)\u001b[0m\n\u001b[0;32m    243\u001b[0m \n\u001b[0;32m    244\u001b[0m \u001b[38;5;124;03m\"\"\"\u001b[39;00m\n\u001b[0;32m    245\u001b[0m \u001b[38;5;66;03m# todo(gblackadder) as implemented, if the user wants to update a single value within series_description, for\u001b[39;00m\n\u001b[0;32m    246\u001b[0m \u001b[38;5;66;03m# example, they need to write out the entire series description, writing out again the elements they don't want\u001b[39;00m\n\u001b[0;32m    247\u001b[0m \u001b[38;5;66;03m# changed. A good workflow would be to get metadata by id as a TimeSeriesMetadata object and help users update\u001b[39;00m\n\u001b[1;32m   (...)\u001b[0m\n\u001b[0;32m    251\u001b[0m \u001b[38;5;66;03m#   https://metadataeditorqa.worldbank.org/api-documentation/editor/#operation/createTimeseries\u001b[39;00m\n\u001b[0;32m    252\u001b[0m \u001b[38;5;66;03m#   implies you can but in my observation from calling the api, you cannot\u001b[39;00m\n\u001b[1;32m--> 253\u001b[0m metadata \u001b[38;5;241m=\u001b[39m \u001b[38;5;28;43mself\u001b[39;49m\u001b[38;5;241;43m.\u001b[39;49m\u001b[43mget_project_by_id\u001b[49m\u001b[43m(\u001b[49m\u001b[38;5;28;43mid\u001b[39;49m\u001b[43m)\u001b[49m[\u001b[38;5;124m\"\u001b[39m\u001b[38;5;124mmetadata\u001b[39m\u001b[38;5;124m\"\u001b[39m]\n\u001b[0;32m    254\u001b[0m ts \u001b[38;5;241m=\u001b[39m TimeSeriesMetadataSchema(idno\u001b[38;5;241m=\u001b[39mmetadata[\u001b[38;5;124m'\u001b[39m\u001b[38;5;124midno\u001b[39m\u001b[38;5;124m'\u001b[39m],\n\u001b[0;32m    255\u001b[0m                               metadata_information\u001b[38;5;241m=\u001b[39mmetadata\u001b[38;5;241m.\u001b[39mget(\u001b[38;5;124m'\u001b[39m\u001b[38;5;124mmetadata_information\u001b[39m\u001b[38;5;124m'\u001b[39m, \u001b[38;5;28;01mNone\u001b[39;00m),\n\u001b[0;32m    256\u001b[0m                               series_description\u001b[38;5;241m=\u001b[39mmetadata\u001b[38;5;241m.\u001b[39mget(\u001b[38;5;124m'\u001b[39m\u001b[38;5;124mseries_description\u001b[39m\u001b[38;5;124m'\u001b[39m, \u001b[38;5;28;01mNone\u001b[39;00m),\n\u001b[1;32m   (...)\u001b[0m\n\u001b[0;32m    259\u001b[0m                               tags\u001b[38;5;241m=\u001b[39mmetadata\u001b[38;5;241m.\u001b[39mget(\u001b[38;5;124m'\u001b[39m\u001b[38;5;124mtags\u001b[39m\u001b[38;5;124m'\u001b[39m, \u001b[38;5;28;01mNone\u001b[39;00m),\n\u001b[0;32m    260\u001b[0m                               additional\u001b[38;5;241m=\u001b[39mmetadata\u001b[38;5;241m.\u001b[39mget(\u001b[38;5;124m'\u001b[39m\u001b[38;5;124madditional\u001b[39m\u001b[38;5;124m'\u001b[39m, \u001b[38;5;28;01mNone\u001b[39;00m))\n\u001b[0;32m    262\u001b[0m ts \u001b[38;5;241m=\u001b[39m update_metadata(\n\u001b[0;32m    263\u001b[0m     ts,\n\u001b[0;32m    264\u001b[0m     series_description\u001b[38;5;241m=\u001b[39mseries_description,\n\u001b[1;32m   (...)\u001b[0m\n\u001b[0;32m    269\u001b[0m     additional\u001b[38;5;241m=\u001b[39madditional,\n\u001b[0;32m    270\u001b[0m )\n",
      "File \u001b[1;32mc:\\Users\\wb625523\\sources\\pyMetadataEditor\\pymetadataeditor\\interface.py:138\u001b[0m, in \u001b[0;36mMetadataEditor.get_project_by_id\u001b[1;34m(self, id)\u001b[0m\n\u001b[0;32m    136\u001b[0m \u001b[38;5;66;03m#  todo(gblackadder) we could implement a get project by **idno** by using list projects and then filtering\u001b[39;00m\n\u001b[0;32m    137\u001b[0m get_project_template \u001b[38;5;241m=\u001b[39m \u001b[38;5;124m\"\u001b[39m\u001b[38;5;124mhttps://metadataeditorqa.worldbank.org/index.php/api/editor/\u001b[39m\u001b[38;5;132;01m{}\u001b[39;00m\u001b[38;5;124m\"\u001b[39m\n\u001b[1;32m--> 138\u001b[0m response \u001b[38;5;241m=\u001b[39m \u001b[38;5;28;43mself\u001b[39;49m\u001b[38;5;241;43m.\u001b[39;49m\u001b[43m_get_request\u001b[49m\u001b[43m(\u001b[49m\u001b[43mget_project_template\u001b[49m\u001b[43m,\u001b[49m\u001b[43m \u001b[49m\u001b[38;5;28;43mid\u001b[39;49m\u001b[38;5;241;43m=\u001b[39;49m\u001b[38;5;28;43mid\u001b[39;49m\u001b[43m)\u001b[49m\n\u001b[0;32m    139\u001b[0m project_collection \u001b[38;5;241m=\u001b[39m response[\u001b[38;5;124m\"\u001b[39m\u001b[38;5;124mproject\u001b[39m\u001b[38;5;124m\"\u001b[39m]\n\u001b[0;32m    140\u001b[0m \u001b[38;5;28;01mreturn\u001b[39;00m pd\u001b[38;5;241m.\u001b[39mSeries(project_collection)\n",
      "File \u001b[1;32mc:\\Users\\wb625523\\sources\\pyMetadataEditor\\pymetadataeditor\\interface.py:101\u001b[0m, in \u001b[0;36mMetadataEditor._get_request\u001b[1;34m(self, url, id)\u001b[0m\n\u001b[0;32m     93\u001b[0m \u001b[38;5;28;01mdef\u001b[39;00m \u001b[38;5;21m_get_request\u001b[39m(\u001b[38;5;28mself\u001b[39m, url: \u001b[38;5;28mstr\u001b[39m, \u001b[38;5;28mid\u001b[39m: Optional[Union[\u001b[38;5;28mint\u001b[39m, \u001b[38;5;28mstr\u001b[39m]] \u001b[38;5;241m=\u001b[39m \u001b[38;5;28;01mNone\u001b[39;00m) \u001b[38;5;241m-\u001b[39m\u001b[38;5;241m>\u001b[39m Dict:\n\u001b[0;32m     94\u001b[0m \u001b[38;5;250m    \u001b[39m\u001b[38;5;124;03m\"\"\"\u001b[39;00m\n\u001b[0;32m     95\u001b[0m \u001b[38;5;124;03m    Args:\u001b[39;00m\n\u001b[0;32m     96\u001b[0m \u001b[38;5;124;03m        url (str): The URL to which the GET request is sent.\u001b[39;00m\n\u001b[1;32m   (...)\u001b[0m\n\u001b[0;32m     99\u001b[0m \u001b[38;5;124;03m        Dict[str, str]: The JSON response from the server, parsed into a dictionary.\u001b[39;00m\n\u001b[0;32m    100\u001b[0m \u001b[38;5;124;03m    \"\"\"\u001b[39;00m\n\u001b[1;32m--> 101\u001b[0m     \u001b[38;5;28;01mreturn\u001b[39;00m \u001b[38;5;28;43mself\u001b[39;49m\u001b[38;5;241;43m.\u001b[39;49m\u001b[43m_request\u001b[49m\u001b[43m(\u001b[49m\u001b[38;5;124;43m\"\u001b[39;49m\u001b[38;5;124;43mget\u001b[39;49m\u001b[38;5;124;43m\"\u001b[39;49m\u001b[43m,\u001b[49m\u001b[43m \u001b[49m\u001b[43murl\u001b[49m\u001b[38;5;241;43m=\u001b[39;49m\u001b[43murl\u001b[49m\u001b[43m,\u001b[49m\u001b[43m \u001b[49m\u001b[38;5;28;43mid\u001b[39;49m\u001b[38;5;241;43m=\u001b[39;49m\u001b[38;5;28;43mid\u001b[39;49m\u001b[43m)\u001b[49m\n",
      "File \u001b[1;32mc:\\Users\\wb625523\\sources\\pyMetadataEditor\\pymetadataeditor\\interface.py:84\u001b[0m, in \u001b[0;36mMetadataEditor._request\u001b[1;34m(self, method, url, json, id)\u001b[0m\n\u001b[0;32m     82\u001b[0m     \u001b[38;5;28;01mraise\u001b[39;00m \u001b[38;5;167;01mPermissionError\u001b[39;00m(\u001b[38;5;124mf\u001b[39m\u001b[38;5;124m\"\u001b[39m\u001b[38;5;124mAccess Denied. Check that the API key \u001b[39m\u001b[38;5;124m'\u001b[39m\u001b[38;5;132;01m{\u001b[39;00m\u001b[38;5;28mself\u001b[39m\u001b[38;5;241m.\u001b[39mapi_key\u001b[38;5;132;01m}\u001b[39;00m\u001b[38;5;124m'\u001b[39m\u001b[38;5;124m is correct\u001b[39m\u001b[38;5;124m\"\u001b[39m) \u001b[38;5;28;01mfrom\u001b[39;00m \u001b[38;5;28;01mNone\u001b[39;00m\n\u001b[0;32m     83\u001b[0m \u001b[38;5;28;01melif\u001b[39;00m response\u001b[38;5;241m.\u001b[39mstatus_code \u001b[38;5;241m==\u001b[39m \u001b[38;5;241m400\u001b[39m \u001b[38;5;129;01mand\u001b[39;00m \u001b[38;5;28mid\u001b[39m \u001b[38;5;129;01mis\u001b[39;00m \u001b[38;5;129;01mnot\u001b[39;00m \u001b[38;5;28;01mNone\u001b[39;00m:\n\u001b[1;32m---> 84\u001b[0m     \u001b[38;5;28;01mraise\u001b[39;00m \u001b[38;5;167;01mPermissionError\u001b[39;00m(\u001b[38;5;124mf\u001b[39m\u001b[38;5;124m\"\u001b[39m\u001b[38;5;124mAccess Denied. Check that the id \u001b[39m\u001b[38;5;124m'\u001b[39m\u001b[38;5;132;01m{\u001b[39;00m\u001b[38;5;28mid\u001b[39m\u001b[38;5;132;01m}\u001b[39;00m\u001b[38;5;124m'\u001b[39m\u001b[38;5;124m is correct\u001b[39m\u001b[38;5;124m\"\u001b[39m) \u001b[38;5;28;01mfrom\u001b[39;00m \u001b[38;5;28;01mNone\u001b[39;00m\n\u001b[0;32m     85\u001b[0m \u001b[38;5;28;01melse\u001b[39;00m:\n\u001b[0;32m     86\u001b[0m     \u001b[38;5;28;01mraise\u001b[39;00m \u001b[38;5;167;01mException\u001b[39;00m(\n\u001b[0;32m     87\u001b[0m         \u001b[38;5;124mf\u001b[39m\u001b[38;5;124m\"\u001b[39m\u001b[38;5;124mStatus Code: \u001b[39m\u001b[38;5;132;01m{\u001b[39;00mresponse\u001b[38;5;241m.\u001b[39mstatus_code\u001b[38;5;132;01m}\u001b[39;00m\u001b[38;5;124m, Response: \u001b[39m\u001b[38;5;132;01m{\u001b[39;00mjson\u001b[38;5;241m.\u001b[39mloads(response\u001b[38;5;241m.\u001b[39mtext)[\u001b[38;5;124m'\u001b[39m\u001b[38;5;124mmessage\u001b[39m\u001b[38;5;124m'\u001b[39m]\u001b[38;5;132;01m}\u001b[39;00m\u001b[38;5;124m\"\u001b[39m\n\u001b[0;32m     88\u001b[0m     ) \u001b[38;5;28;01mfrom\u001b[39;00m \u001b[38;5;21;01me\u001b[39;00m\n",
      "\u001b[1;31mPermissionError\u001b[0m: Access Denied. Check that the id '1' is correct"
     ]
    }
   ],
   "source": [
    "series_description= {\n",
    "                \"idno\": \"GB20240617_demo1\",\n",
    "                \"doi\": \"V2\",\n",
    "                \"name\": \"Version 2\",\n",
    "                \"display_name\": \"Version 2\",\n",
    "                \"authoring_entity\": [{\"name\": \"example agency\"}]\n",
    "                }\n",
    "\n",
    "me.update_timeseries_by_id(1,\n",
    "                           series_description=series_description)"
   ]
  },
  {
   "cell_type": "markdown",
   "metadata": {},
   "source": [
    "## Help defining valid metadata\n",
    "\n",
    "Instead of passing in dictionaries (indeed dictionaries of dictionaries of dictionaries), we can use predefined objects that help identify which fields are required and the data type of each field. These can be passed to the create and update functions just like dictionaries.\n",
    "\n",
    "We have defined objects for each field within the timeseries schema:\n",
    "\n",
    "* metadata information\n",
    "    * producers\n",
    "    * version statement\n",
    "* series description\n",
    "    * authoring entity\n",
    "    * version statement\n",
    "    * alias\n",
    "    * alternate identifier\n",
    "    * language\n",
    "    * dimension\n",
    "    * references used for definition references, statistical concept references, methodology references, derivation references, imputation references, aggregation method references\n",
    "    * concept\n",
    "    * data collection\n",
    "    * theme\n",
    "    * topic\n",
    "    * discipline\n",
    "    * mandata\n",
    "    * time period\n",
    "    * ref country\n",
    "    * geographic unit\n",
    "    * bbox\n",
    "    * license\n",
    "    * links\n",
    "    * api documentation\n",
    "    * sources\n",
    "        * other identifiers\n",
    "        * author\n",
    "            * author id\n",
    "        * dataset\n",
    "    * keyword\n",
    "    * acronym\n",
    "    * errata\n",
    "    * acknowledgement\n",
    "    * note\n",
    "    * related indicator\n",
    "    * compliance\n",
    "    * framework\n",
    "    * series group\n",
    "    *contact\n",
    "* datacite\n",
    "    * creator\n",
    "    * title\n",
    "    * type\n",
    "* provenance\n",
    "    * origin description\n",
    "* tags"
   ]
  },
  {
   "cell_type": "code",
   "execution_count": 10,
   "metadata": {},
   "outputs": [
    {
     "data": {
      "text/plain": [
       "SeriesDescription(idno='example_idno', doi=None, name='example_name', display_name=None, authoring_entity=None, database_id=None, database_name=None, date_last_update=None, date_released=None, version_statement=None, aliases=None, alternate_identifiers=None, languages=None, measurement_unit=None, dimensions=None, release_calendar=None, periodicity=None, base_period=None, definition_short=None, definition_long=None, definition_references=None, statistical_concept=None, statistical_concept_references=None, concepts=None, data_collection=None, methodology=None, methodology_references=None, derivation=None, derivation_references=None, imputation=None, imputation_references=None, adjustments=None, missing=None, validation_rules=None, quality_checks=None, quality_note=None, sources_discrepancies=None, series_break=None, limitation=None, themes=None, topics=None, disciplines=None, relevance=None, mandate=None, time_periods=None, ref_country=None, geographic_units=None, bbox=None, aggregation_method=None, aggregation_method_references=None, disaggregation=None, license=None, confidentiality=None, confidentiality_status=None, confidentiality_note=None, citation_requirement=None, links=None, api_documentation=None, sources=None, sources_note=None, keywords=None, acronyms=None, errata=None, acknowledgements=None, acknowledgement_statement=None, disclaimer=None, notes=None, related_indicators=None, compliance=None, framework=None, series_groups=None, contacts=None)"
      ]
     },
     "execution_count": 10,
     "metadata": {},
     "output_type": "execute_result"
    }
   ],
   "source": [
    "import pymetadataeditor.schemas as ms\n",
    "\n",
    "ms.SeriesDescription(idno=\"example_idno\",\n",
    "                     name=\"example_name\")"
   ]
  },
  {
   "cell_type": "markdown",
   "metadata": {},
   "source": [
    "### Subfields\n",
    "Complex fields with lots of hierarchy can be built up"
   ]
  },
  {
   "cell_type": "code",
   "execution_count": 21,
   "metadata": {},
   "outputs": [
    {
     "data": {
      "text/plain": [
       "{'idno': 'GB20240617_demo1',\n",
       " 'series_description': {'idno': 'GB20240617_demo1',\n",
       "  'doi': 'V3',\n",
       "  'name': 'Version 3',\n",
       "  'display_name': 'Version 3',\n",
       "  'authoring_entity': [{'name': 'example agency',\n",
       "    'affiliation': 'parent agency',\n",
       "    'uri': 'http://example.com'}],\n",
       "  'sources': [{'idno': 'relatedSourceId',\n",
       "    'name': 'First Source',\n",
       "    'authors': [{'first_name': 'Gordon',\n",
       "      'last_name': 'Blackadder',\n",
       "      'affiliation': 'World Bank Group'}]},\n",
       "   {'name': 'Second Source', 'access_date': '2024-06-17'}]},\n",
       " 'changed_by': '63',\n",
       " 'changed': '1718631649'}"
      ]
     },
     "execution_count": 21,
     "metadata": {},
     "output_type": "execute_result"
    }
   ],
   "source": [
    "authoring_entity = ms.AuthoringEntity(name=\"example agency\",\n",
    "                                      affiliation=\"parent agency\",\n",
    "                                      uri = \"http://example.com\")\n",
    "\n",
    "author_1a = ms.Author(first_name=\"Gordon\", last_name=\"Blackadder\", affiliation=\"World Bank Group\")\n",
    "source_1 = ms.Source(idno=\"relatedSourceId\",\n",
    "                     name=\"First Source\",\n",
    "                     authors = [author_1a]\n",
    "                     )\n",
    "\n",
    "source_2 = ms.Source(name=\"Second Source\", access_date=\"2024-06-17\")\n",
    "\n",
    "updated_series_description = ms.SeriesDescription(idno=\"GB20240617_demo1\",\n",
    "                                                  doi=\"V3\",\n",
    "                                                  name=\"Version 3\",\n",
    "                                                  display_name=\"Version 3\",\n",
    "                                                  authoring_entity=[authoring_entity],\n",
    "                                                  sources=[source_1, source_2])\n",
    "\n",
    "\n",
    "me.update_timeseries_by_id(2659, series_description=updated_series_description)\n",
    "me.get_project_by_id(2659)['metadata']"
   ]
  },
  {
   "cell_type": "markdown",
   "metadata": {},
   "source": [
    "### If a required field is missing there is a clear error message"
   ]
  },
  {
   "cell_type": "code",
   "execution_count": 19,
   "metadata": {},
   "outputs": [
    {
     "ename": "ValidationError",
     "evalue": "1 validation error for SeriesDescription\nname\n  Field required [type=missing, input_value={'idno': 'example_idno'}, input_type=dict]\n    For further information visit https://errors.pydantic.dev/2.7/v/missing",
     "output_type": "error",
     "traceback": [
      "\u001b[1;31m---------------------------------------------------------------------------\u001b[0m",
      "\u001b[1;31mValidationError\u001b[0m                           Traceback (most recent call last)",
      "Cell \u001b[1;32mIn[19], line 1\u001b[0m\n\u001b[1;32m----> 1\u001b[0m \u001b[43mms\u001b[49m\u001b[38;5;241;43m.\u001b[39;49m\u001b[43mSeriesDescription\u001b[49m\u001b[43m(\u001b[49m\u001b[43midno\u001b[49m\u001b[38;5;241;43m=\u001b[39;49m\u001b[38;5;124;43m\"\u001b[39;49m\u001b[38;5;124;43mexample_idno\u001b[39;49m\u001b[38;5;124;43m\"\u001b[39;49m\u001b[43m)\u001b[49m  \u001b[38;5;66;03m# the field 'name' is required but missing here\u001b[39;00m\n",
      "File \u001b[1;32mc:\\Users\\wb625523\\sources\\pyMetadataEditor\\.venv\\Lib\\site-packages\\pydantic\\main.py:176\u001b[0m, in \u001b[0;36mBaseModel.__init__\u001b[1;34m(self, **data)\u001b[0m\n\u001b[0;32m    174\u001b[0m \u001b[38;5;66;03m# `__tracebackhide__` tells pytest and some other tools to omit this function from tracebacks\u001b[39;00m\n\u001b[0;32m    175\u001b[0m __tracebackhide__ \u001b[38;5;241m=\u001b[39m \u001b[38;5;28;01mTrue\u001b[39;00m\n\u001b[1;32m--> 176\u001b[0m \u001b[38;5;28;43mself\u001b[39;49m\u001b[38;5;241;43m.\u001b[39;49m\u001b[43m__pydantic_validator__\u001b[49m\u001b[38;5;241;43m.\u001b[39;49m\u001b[43mvalidate_python\u001b[49m\u001b[43m(\u001b[49m\u001b[43mdata\u001b[49m\u001b[43m,\u001b[49m\u001b[43m \u001b[49m\u001b[43mself_instance\u001b[49m\u001b[38;5;241;43m=\u001b[39;49m\u001b[38;5;28;43mself\u001b[39;49m\u001b[43m)\u001b[49m\n",
      "\u001b[1;31mValidationError\u001b[0m: 1 validation error for SeriesDescription\nname\n  Field required [type=missing, input_value={'idno': 'example_idno'}, input_type=dict]\n    For further information visit https://errors.pydantic.dev/2.7/v/missing"
     ]
    }
   ],
   "source": [
    "ms.SeriesDescription(idno=\"example_idno\")  # the field 'name' is required but missing here"
   ]
  },
  {
   "cell_type": "markdown",
   "metadata": {},
   "source": [
    "### If a field has the wrong type there is also a clear error message"
   ]
  },
  {
   "cell_type": "code",
   "execution_count": 20,
   "metadata": {},
   "outputs": [
    {
     "ename": "ValidationError",
     "evalue": "2 validation errors for MetadataInformation\ntitle\n  Input should be a valid string [type=string_type, input_value=17, input_type=int]\n    For further information visit https://errors.pydantic.dev/2.7/v/string_type\nproducers\n  Input should be a valid list [type=list_type, input_value={'name': 'example_agency'}, input_type=dict]\n    For further information visit https://errors.pydantic.dev/2.7/v/list_type",
     "output_type": "error",
     "traceback": [
      "\u001b[1;31m---------------------------------------------------------------------------\u001b[0m",
      "\u001b[1;31mValidationError\u001b[0m                           Traceback (most recent call last)",
      "Cell \u001b[1;32mIn[20], line 1\u001b[0m\n\u001b[1;32m----> 1\u001b[0m \u001b[43mms\u001b[49m\u001b[38;5;241;43m.\u001b[39;49m\u001b[43mMetadataInformation\u001b[49m\u001b[43m(\u001b[49m\u001b[43mtitle\u001b[49m\u001b[38;5;241;43m=\u001b[39;49m\u001b[38;5;241;43m17\u001b[39;49m\u001b[43m,\u001b[49m\u001b[43m \u001b[49m\u001b[43mproducers\u001b[49m\u001b[38;5;241;43m=\u001b[39;49m\u001b[43m{\u001b[49m\u001b[38;5;124;43m\"\u001b[39;49m\u001b[38;5;124;43mname\u001b[39;49m\u001b[38;5;124;43m\"\u001b[39;49m\u001b[43m:\u001b[49m\u001b[43m \u001b[49m\u001b[38;5;124;43m\"\u001b[39;49m\u001b[38;5;124;43mexample_agency\u001b[39;49m\u001b[38;5;124;43m\"\u001b[39;49m\u001b[43m}\u001b[49m\u001b[43m)\u001b[49m\n",
      "File \u001b[1;32mc:\\Users\\wb625523\\sources\\pyMetadataEditor\\.venv\\Lib\\site-packages\\pydantic\\main.py:176\u001b[0m, in \u001b[0;36mBaseModel.__init__\u001b[1;34m(self, **data)\u001b[0m\n\u001b[0;32m    174\u001b[0m \u001b[38;5;66;03m# `__tracebackhide__` tells pytest and some other tools to omit this function from tracebacks\u001b[39;00m\n\u001b[0;32m    175\u001b[0m __tracebackhide__ \u001b[38;5;241m=\u001b[39m \u001b[38;5;28;01mTrue\u001b[39;00m\n\u001b[1;32m--> 176\u001b[0m \u001b[38;5;28;43mself\u001b[39;49m\u001b[38;5;241;43m.\u001b[39;49m\u001b[43m__pydantic_validator__\u001b[49m\u001b[38;5;241;43m.\u001b[39;49m\u001b[43mvalidate_python\u001b[49m\u001b[43m(\u001b[49m\u001b[43mdata\u001b[49m\u001b[43m,\u001b[49m\u001b[43m \u001b[49m\u001b[43mself_instance\u001b[49m\u001b[38;5;241;43m=\u001b[39;49m\u001b[38;5;28;43mself\u001b[39;49m\u001b[43m)\u001b[49m\n",
      "\u001b[1;31mValidationError\u001b[0m: 2 validation errors for MetadataInformation\ntitle\n  Input should be a valid string [type=string_type, input_value=17, input_type=int]\n    For further information visit https://errors.pydantic.dev/2.7/v/string_type\nproducers\n  Input should be a valid list [type=list_type, input_value={'name': 'example_agency'}, input_type=dict]\n    For further information visit https://errors.pydantic.dev/2.7/v/list_type"
     ]
    }
   ],
   "source": [
    "ms.MetadataInformation(title=17, producers={\"name\": \"example_agency\"})"
   ]
  },
  {
   "cell_type": "markdown",
   "metadata": {},
   "source": [
    "### And if a field ought to be a web link there is a clear message"
   ]
  },
  {
   "cell_type": "code",
   "execution_count": 8,
   "metadata": {},
   "outputs": [
    {
     "ename": "ValidationError",
     "evalue": "1 validation error for Datacite\nurl\n  Input should be a valid URL, relative URL without a base [type=url_parsing, input_value='not a url', input_type=str]\n    For further information visit https://errors.pydantic.dev/2.7/v/url_parsing",
     "output_type": "error",
     "traceback": [
      "\u001b[1;31m---------------------------------------------------------------------------\u001b[0m",
      "\u001b[1;31mValidationError\u001b[0m                           Traceback (most recent call last)",
      "Cell \u001b[1;32mIn[8], line 1\u001b[0m\n\u001b[1;32m----> 1\u001b[0m \u001b[43mms\u001b[49m\u001b[38;5;241;43m.\u001b[39;49m\u001b[43mDatacite\u001b[49m\u001b[43m(\u001b[49m\u001b[43murl\u001b[49m\u001b[38;5;241;43m=\u001b[39;49m\u001b[38;5;124;43m\"\u001b[39;49m\u001b[38;5;124;43mnot a url\u001b[39;49m\u001b[38;5;124;43m\"\u001b[39;49m\u001b[43m)\u001b[49m\n",
      "File \u001b[1;32mc:\\Users\\wb625523\\sources\\pyMetadataEditor\\.venv\\Lib\\site-packages\\pydantic\\main.py:176\u001b[0m, in \u001b[0;36mBaseModel.__init__\u001b[1;34m(self, **data)\u001b[0m\n\u001b[0;32m    174\u001b[0m \u001b[38;5;66;03m# `__tracebackhide__` tells pytest and some other tools to omit this function from tracebacks\u001b[39;00m\n\u001b[0;32m    175\u001b[0m __tracebackhide__ \u001b[38;5;241m=\u001b[39m \u001b[38;5;28;01mTrue\u001b[39;00m\n\u001b[1;32m--> 176\u001b[0m \u001b[38;5;28;43mself\u001b[39;49m\u001b[38;5;241;43m.\u001b[39;49m\u001b[43m__pydantic_validator__\u001b[49m\u001b[38;5;241;43m.\u001b[39;49m\u001b[43mvalidate_python\u001b[49m\u001b[43m(\u001b[49m\u001b[43mdata\u001b[49m\u001b[43m,\u001b[49m\u001b[43m \u001b[49m\u001b[43mself_instance\u001b[49m\u001b[38;5;241;43m=\u001b[39;49m\u001b[38;5;28;43mself\u001b[39;49m\u001b[43m)\u001b[49m\n",
      "\u001b[1;31mValidationError\u001b[0m: 1 validation error for Datacite\nurl\n  Input should be a valid URL, relative URL without a base [type=url_parsing, input_value='not a url', input_type=str]\n    For further information visit https://errors.pydantic.dev/2.7/v/url_parsing"
     ]
    }
   ],
   "source": [
    "ms.Datacite(url=\"not a url\")"
   ]
  },
  {
   "cell_type": "code",
   "execution_count": 9,
   "metadata": {},
   "outputs": [
    {
     "data": {
      "text/plain": [
       "Datacite(doi=None, prefix=None, suffix=None, creators=None, titles=None, publisher=None, publicationYear=None, types=None, url=Url('http://example.com/'), language=None)"
      ]
     },
     "execution_count": 9,
     "metadata": {},
     "output_type": "execute_result"
    }
   ],
   "source": [
    "ms.Datacite(url=\"http://example.com\")"
   ]
  },
  {
   "cell_type": "markdown",
   "metadata": {},
   "source": [
    "### Popups can tell you the fields of each metadata type\n",
    "\n",
    "With this tool, you don't need to look up the documentation as much"
   ]
  },
  {
   "attachments": {
    "image.png": {
     "image/png": "[encoded data removed]"
    }
   },
   "cell_type": "markdown",
   "metadata": {},
   "source": [
    "![image.png](attachment:image.png)"
   ]
  }
 ],
 "metadata": {
  "kernelspec": {
   "display_name": ".venv",
   "language": "python",
   "name": "python3"
  },
  "language_info": {
   "codemirror_mode": {
    "name": "ipython",
    "version": 3
   },
   "file_extension": ".py",
   "mimetype": "text/x-python",
   "name": "python",
   "nbconvert_exporter": "python",
   "pygments_lexer": "ipython3",
   "version": "3.11.9"
  }
 },
 "nbformat": 4,
 "nbformat_minor": 2
}

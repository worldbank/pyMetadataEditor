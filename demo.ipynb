{
 "cells": [
  {
   "cell_type": "markdown",
   "metadata": {},
   "source": [
    "# How to use Metadata Editor"
   ]
  },
  {
   "cell_type": "code",
   "execution_count": 1,
   "metadata": {},
   "outputs": [],
   "source": [
    "from pymetadataeditor import MetadataEditor"
   ]
  },
  {
   "cell_type": "markdown",
   "metadata": {},
   "source": [
    "## Examples of the interface"
   ]
  },
  {
   "cell_type": "code",
   "execution_count": 2,
   "metadata": {},
   "outputs": [],
   "source": [
    "your_api_key = \"<your api key here>\"\n",
    "api_url = \"<your api url here>\"\n",
    "me = MetadataEditor(api_url=api_url, api_key=your_api_key)"
   ]
  },
  {
   "cell_type": "markdown",
   "metadata": {},
   "source": [
    "### Listing your projects"
   ]
  },
  {
   "cell_type": "code",
   "execution_count": 3,
   "metadata": {},
   "outputs": [
    {
     "data": {
      "text/html": [
       "<div>\n",
       "<style scoped>\n",
       "    .dataframe tbody tr th:only-of-type {\n",
       "        vertical-align: middle;\n",
       "    }\n",
       "\n",
       "    .dataframe tbody tr th {\n",
       "        vertical-align: top;\n",
       "    }\n",
       "\n",
       "    .dataframe thead th {\n",
       "        text-align: right;\n",
       "    }\n",
       "</style>\n",
       "<table border=\"1\" class=\"dataframe\">\n",
       "  <thead>\n",
       "    <tr style=\"text-align: right;\">\n",
       "      <th></th>\n",
       "      <th>type</th>\n",
       "      <th>idno</th>\n",
       "      <th>study_idno</th>\n",
       "      <th>title</th>\n",
       "      <th>abbreviation</th>\n",
       "      <th>nation</th>\n",
       "      <th>year_start</th>\n",
       "      <th>year_end</th>\n",
       "      <th>published</th>\n",
       "      <th>created</th>\n",
       "      <th>changed</th>\n",
       "      <th>varcount</th>\n",
       "      <th>created_by</th>\n",
       "      <th>changed_by</th>\n",
       "      <th>is_shared</th>\n",
       "      <th>thumbnail</th>\n",
       "      <th>template_uid</th>\n",
       "      <th>username</th>\n",
       "      <th>username_cr</th>\n",
       "      <th>collections</th>\n",
       "    </tr>\n",
       "    <tr>\n",
       "      <th>id</th>\n",
       "      <th></th>\n",
       "      <th></th>\n",
       "      <th></th>\n",
       "      <th></th>\n",
       "      <th></th>\n",
       "      <th></th>\n",
       "      <th></th>\n",
       "      <th></th>\n",
       "      <th></th>\n",
       "      <th></th>\n",
       "      <th></th>\n",
       "      <th></th>\n",
       "      <th></th>\n",
       "      <th></th>\n",
       "      <th></th>\n",
       "      <th></th>\n",
       "      <th></th>\n",
       "      <th></th>\n",
       "      <th></th>\n",
       "      <th></th>\n",
       "    </tr>\n",
       "  </thead>\n",
       "  <tbody>\n",
       "    <tr>\n",
       "      <th>7</th>\n",
       "      <td>survey</td>\n",
       "      <td>f47e881f-5cbe-4b97-bf99-5f544c9d0d5a</td>\n",
       "      <td>WLD_2023_SYNTH-SVY-EN_v01_M</td>\n",
       "      <td>Synthetic Data for an Imaginary Country, Sampl...</td>\n",
       "      <td>None</td>\n",
       "      <td></td>\n",
       "      <td>0</td>\n",
       "      <td>0</td>\n",
       "      <td>None</td>\n",
       "      <td>2023-06-29T17:35:47-04:00</td>\n",
       "      <td>2023-06-29T17:35:47-04:00</td>\n",
       "      <td>None</td>\n",
       "      <td>1</td>\n",
       "      <td>1</td>\n",
       "      <td>None</td>\n",
       "      <td>thumbnail-1620.JPG</td>\n",
       "      <td>None</td>\n",
       "      <td>mehmood asghar</td>\n",
       "      <td>mehmood asghar</td>\n",
       "      <td>[{'id': '36', 'title': 'test', 'sid': '7'}]</td>\n",
       "    </tr>\n",
       "    <tr>\n",
       "      <th>62</th>\n",
       "      <td>survey</td>\n",
       "      <td>07abfb4e-4fe7-46ff-9be9-3c63a2dc888b</td>\n",
       "      <td>WLD_2023_WFSO_v01_M</td>\n",
       "      <td>World Food Security Outlook</td>\n",
       "      <td>None</td>\n",
       "      <td></td>\n",
       "      <td>0</td>\n",
       "      <td>0</td>\n",
       "      <td>None</td>\n",
       "      <td>2023-11-10T11:09:23-05:00</td>\n",
       "      <td>2024-02-13T12:38:04-05:00</td>\n",
       "      <td>None</td>\n",
       "      <td>1</td>\n",
       "      <td>1</td>\n",
       "      <td>1</td>\n",
       "      <td>thumbnail-1682.png</td>\n",
       "      <td>None</td>\n",
       "      <td>mehmood asghar</td>\n",
       "      <td>mehmood asghar</td>\n",
       "      <td>[{'id': '36', 'title': 'test', 'sid': '62'}]</td>\n",
       "    </tr>\n",
       "    <tr>\n",
       "      <th>1616</th>\n",
       "      <td>survey</td>\n",
       "      <td>1708ad38-6cb1-4bca-b400-a21832669b06</td>\n",
       "      <td>SRB_2021_DHIPIE-EL_v01_M</td>\n",
       "      <td>Inclusive Early Childhood Education and Care I...</td>\n",
       "      <td>None</td>\n",
       "      <td></td>\n",
       "      <td>0</td>\n",
       "      <td>0</td>\n",
       "      <td>None</td>\n",
       "      <td>2024-03-14T09:58:11-04:00</td>\n",
       "      <td>2024-03-14T09:58:11-04:00</td>\n",
       "      <td>None</td>\n",
       "      <td>1</td>\n",
       "      <td>1</td>\n",
       "      <td>None</td>\n",
       "      <td>None</td>\n",
       "      <td>None</td>\n",
       "      <td>mehmood asghar</td>\n",
       "      <td>mehmood asghar</td>\n",
       "      <td>[{'id': '36', 'title': 'test', 'sid': '1616'}]</td>\n",
       "    </tr>\n",
       "    <tr>\n",
       "      <th>2267</th>\n",
       "      <td>timeseries</td>\n",
       "      <td>example-timeseries-project-idno-03</td>\n",
       "      <td>example-timeseries-01</td>\n",
       "      <td>Example Timeseries - Travel services (% of com...</td>\n",
       "      <td>None</td>\n",
       "      <td></td>\n",
       "      <td>0</td>\n",
       "      <td>0</td>\n",
       "      <td>None</td>\n",
       "      <td>2024-04-04T14:16:01-04:00</td>\n",
       "      <td>2024-04-04T14:25:50-04:00</td>\n",
       "      <td>None</td>\n",
       "      <td>1</td>\n",
       "      <td>1</td>\n",
       "      <td>None</td>\n",
       "      <td>None</td>\n",
       "      <td>None</td>\n",
       "      <td>mehmood asghar</td>\n",
       "      <td>mehmood asghar</td>\n",
       "      <td>[{'id': '36', 'title': 'test', 'sid': '2267'}]</td>\n",
       "    </tr>\n",
       "  </tbody>\n",
       "</table>\n",
       "</div>"
      ],
      "text/plain": [
       "            type                                  idno  \\\n",
       "id                                                       \n",
       "7         survey  f47e881f-5cbe-4b97-bf99-5f544c9d0d5a   \n",
       "62        survey  07abfb4e-4fe7-46ff-9be9-3c63a2dc888b   \n",
       "1616      survey  1708ad38-6cb1-4bca-b400-a21832669b06   \n",
       "2267  timeseries    example-timeseries-project-idno-03   \n",
       "\n",
       "                       study_idno  \\\n",
       "id                                  \n",
       "7     WLD_2023_SYNTH-SVY-EN_v01_M   \n",
       "62            WLD_2023_WFSO_v01_M   \n",
       "1616     SRB_2021_DHIPIE-EL_v01_M   \n",
       "2267        example-timeseries-01   \n",
       "\n",
       "                                                  title abbreviation nation  \\\n",
       "id                                                                            \n",
       "7     Synthetic Data for an Imaginary Country, Sampl...         None          \n",
       "62                          World Food Security Outlook         None          \n",
       "1616  Inclusive Early Childhood Education and Care I...         None          \n",
       "2267  Example Timeseries - Travel services (% of com...         None          \n",
       "\n",
       "     year_start year_end published                    created  \\\n",
       "id                                                              \n",
       "7             0        0      None  2023-06-29T17:35:47-04:00   \n",
       "62            0        0      None  2023-11-10T11:09:23-05:00   \n",
       "1616          0        0      None  2024-03-14T09:58:11-04:00   \n",
       "2267          0        0      None  2024-04-04T14:16:01-04:00   \n",
       "\n",
       "                        changed varcount created_by changed_by is_shared  \\\n",
       "id                                                                         \n",
       "7     2023-06-29T17:35:47-04:00     None          1          1      None   \n",
       "62    2024-02-13T12:38:04-05:00     None          1          1         1   \n",
       "1616  2024-03-14T09:58:11-04:00     None          1          1      None   \n",
       "2267  2024-04-04T14:25:50-04:00     None          1          1      None   \n",
       "\n",
       "               thumbnail template_uid        username     username_cr  \\\n",
       "id                                                                      \n",
       "7     thumbnail-1620.JPG         None  mehmood asghar  mehmood asghar   \n",
       "62    thumbnail-1682.png         None  mehmood asghar  mehmood asghar   \n",
       "1616                None         None  mehmood asghar  mehmood asghar   \n",
       "2267                None         None  mehmood asghar  mehmood asghar   \n",
       "\n",
       "                                         collections  \n",
       "id                                                    \n",
       "7        [{'id': '36', 'title': 'test', 'sid': '7'}]  \n",
       "62      [{'id': '36', 'title': 'test', 'sid': '62'}]  \n",
       "1616  [{'id': '36', 'title': 'test', 'sid': '1616'}]  \n",
       "2267  [{'id': '36', 'title': 'test', 'sid': '2267'}]  "
      ]
     },
     "execution_count": 3,
     "metadata": {},
     "output_type": "execute_result"
    }
   ],
   "source": [
    "me.list_projects()"
   ]
  },
  {
   "cell_type": "markdown",
   "metadata": {},
   "source": [
    "### Creating a new project"
   ]
  },
  {
   "cell_type": "code",
   "execution_count": 4,
   "metadata": {},
   "outputs": [],
   "source": [
    "series_description = {\n",
    "                        \"idno\": \"GB20240621_demo1\",\n",
    "                        \"doi\": \"V1\",\n",
    "                        \"name\": \"Version 1\",\n",
    "                        \"display_name\": \"Version 1\"\n",
    "                     }\n",
    "\n",
    "me.create_timeseries(idno=\"GB20240621_demo1\",\n",
    "                     series_description=series_description)"
   ]
  },
  {
   "cell_type": "code",
   "execution_count": 5,
   "metadata": {},
   "outputs": [
    {
     "data": {
      "text/html": [
       "<div>\n",
       "<style scoped>\n",
       "    .dataframe tbody tr th:only-of-type {\n",
       "        vertical-align: middle;\n",
       "    }\n",
       "\n",
       "    .dataframe tbody tr th {\n",
       "        vertical-align: top;\n",
       "    }\n",
       "\n",
       "    .dataframe thead th {\n",
       "        text-align: right;\n",
       "    }\n",
       "</style>\n",
       "<table border=\"1\" class=\"dataframe\">\n",
       "  <thead>\n",
       "    <tr style=\"text-align: right;\">\n",
       "      <th></th>\n",
       "      <th>type</th>\n",
       "      <th>idno</th>\n",
       "      <th>study_idno</th>\n",
       "      <th>title</th>\n",
       "      <th>abbreviation</th>\n",
       "      <th>nation</th>\n",
       "      <th>year_start</th>\n",
       "      <th>year_end</th>\n",
       "      <th>published</th>\n",
       "      <th>created</th>\n",
       "      <th>changed</th>\n",
       "      <th>varcount</th>\n",
       "      <th>created_by</th>\n",
       "      <th>changed_by</th>\n",
       "      <th>is_shared</th>\n",
       "      <th>thumbnail</th>\n",
       "      <th>template_uid</th>\n",
       "      <th>username</th>\n",
       "      <th>username_cr</th>\n",
       "      <th>collections</th>\n",
       "    </tr>\n",
       "    <tr>\n",
       "      <th>id</th>\n",
       "      <th></th>\n",
       "      <th></th>\n",
       "      <th></th>\n",
       "      <th></th>\n",
       "      <th></th>\n",
       "      <th></th>\n",
       "      <th></th>\n",
       "      <th></th>\n",
       "      <th></th>\n",
       "      <th></th>\n",
       "      <th></th>\n",
       "      <th></th>\n",
       "      <th></th>\n",
       "      <th></th>\n",
       "      <th></th>\n",
       "      <th></th>\n",
       "      <th></th>\n",
       "      <th></th>\n",
       "      <th></th>\n",
       "      <th></th>\n",
       "    </tr>\n",
       "  </thead>\n",
       "  <tbody>\n",
       "    <tr>\n",
       "      <th>7</th>\n",
       "      <td>survey</td>\n",
       "      <td>f47e881f-5cbe-4b97-bf99-5f544c9d0d5a</td>\n",
       "      <td>WLD_2023_SYNTH-SVY-EN_v01_M</td>\n",
       "      <td>Synthetic Data for an Imaginary Country, Sampl...</td>\n",
       "      <td>None</td>\n",
       "      <td></td>\n",
       "      <td>0</td>\n",
       "      <td>0</td>\n",
       "      <td>None</td>\n",
       "      <td>2023-06-29T17:35:47-04:00</td>\n",
       "      <td>2023-06-29T17:35:47-04:00</td>\n",
       "      <td>None</td>\n",
       "      <td>1</td>\n",
       "      <td>1</td>\n",
       "      <td>None</td>\n",
       "      <td>thumbnail-1620.JPG</td>\n",
       "      <td>None</td>\n",
       "      <td>mehmood asghar</td>\n",
       "      <td>mehmood asghar</td>\n",
       "      <td>[{'id': '36', 'title': 'test', 'sid': '7'}]</td>\n",
       "    </tr>\n",
       "    <tr>\n",
       "      <th>62</th>\n",
       "      <td>survey</td>\n",
       "      <td>07abfb4e-4fe7-46ff-9be9-3c63a2dc888b</td>\n",
       "      <td>WLD_2023_WFSO_v01_M</td>\n",
       "      <td>World Food Security Outlook</td>\n",
       "      <td>None</td>\n",
       "      <td></td>\n",
       "      <td>0</td>\n",
       "      <td>0</td>\n",
       "      <td>None</td>\n",
       "      <td>2023-11-10T11:09:23-05:00</td>\n",
       "      <td>2024-02-13T12:38:04-05:00</td>\n",
       "      <td>None</td>\n",
       "      <td>1</td>\n",
       "      <td>1</td>\n",
       "      <td>1</td>\n",
       "      <td>thumbnail-1682.png</td>\n",
       "      <td>None</td>\n",
       "      <td>mehmood asghar</td>\n",
       "      <td>mehmood asghar</td>\n",
       "      <td>[{'id': '36', 'title': 'test', 'sid': '62'}]</td>\n",
       "    </tr>\n",
       "    <tr>\n",
       "      <th>1616</th>\n",
       "      <td>survey</td>\n",
       "      <td>1708ad38-6cb1-4bca-b400-a21832669b06</td>\n",
       "      <td>SRB_2021_DHIPIE-EL_v01_M</td>\n",
       "      <td>Inclusive Early Childhood Education and Care I...</td>\n",
       "      <td>None</td>\n",
       "      <td></td>\n",
       "      <td>0</td>\n",
       "      <td>0</td>\n",
       "      <td>None</td>\n",
       "      <td>2024-03-14T09:58:11-04:00</td>\n",
       "      <td>2024-03-14T09:58:11-04:00</td>\n",
       "      <td>None</td>\n",
       "      <td>1</td>\n",
       "      <td>1</td>\n",
       "      <td>None</td>\n",
       "      <td>None</td>\n",
       "      <td>None</td>\n",
       "      <td>mehmood asghar</td>\n",
       "      <td>mehmood asghar</td>\n",
       "      <td>[{'id': '36', 'title': 'test', 'sid': '1616'}]</td>\n",
       "    </tr>\n",
       "    <tr>\n",
       "      <th>2267</th>\n",
       "      <td>timeseries</td>\n",
       "      <td>example-timeseries-project-idno-03</td>\n",
       "      <td>example-timeseries-01</td>\n",
       "      <td>Example Timeseries - Travel services (% of com...</td>\n",
       "      <td>None</td>\n",
       "      <td></td>\n",
       "      <td>0</td>\n",
       "      <td>0</td>\n",
       "      <td>None</td>\n",
       "      <td>2024-04-04T14:16:01-04:00</td>\n",
       "      <td>2024-04-04T14:25:50-04:00</td>\n",
       "      <td>None</td>\n",
       "      <td>1</td>\n",
       "      <td>1</td>\n",
       "      <td>None</td>\n",
       "      <td>None</td>\n",
       "      <td>None</td>\n",
       "      <td>mehmood asghar</td>\n",
       "      <td>mehmood asghar</td>\n",
       "      <td>[{'id': '36', 'title': 'test', 'sid': '2267'}]</td>\n",
       "    </tr>\n",
       "    <tr>\n",
       "      <th>2660</th>\n",
       "      <td>timeseries</td>\n",
       "      <td>GB20240621_demo1</td>\n",
       "      <td>GB20240621_demo1</td>\n",
       "      <td>Version 1</td>\n",
       "      <td>None</td>\n",
       "      <td></td>\n",
       "      <td>0</td>\n",
       "      <td>0</td>\n",
       "      <td>None</td>\n",
       "      <td>2024-06-21T16:06:36-04:00</td>\n",
       "      <td>2024-06-21T16:06:36-04:00</td>\n",
       "      <td>None</td>\n",
       "      <td>63</td>\n",
       "      <td>63</td>\n",
       "      <td>None</td>\n",
       "      <td>None</td>\n",
       "      <td>30ab32c7d62aa6e2801efcf336658dbb</td>\n",
       "      <td>Gordon Blackadder</td>\n",
       "      <td>Gordon Blackadder</td>\n",
       "      <td>[]</td>\n",
       "    </tr>\n",
       "  </tbody>\n",
       "</table>\n",
       "</div>"
      ],
      "text/plain": [
       "            type                                  idno  \\\n",
       "id                                                       \n",
       "7         survey  f47e881f-5cbe-4b97-bf99-5f544c9d0d5a   \n",
       "62        survey  07abfb4e-4fe7-46ff-9be9-3c63a2dc888b   \n",
       "1616      survey  1708ad38-6cb1-4bca-b400-a21832669b06   \n",
       "2267  timeseries    example-timeseries-project-idno-03   \n",
       "2660  timeseries                      GB20240621_demo1   \n",
       "\n",
       "                       study_idno  \\\n",
       "id                                  \n",
       "7     WLD_2023_SYNTH-SVY-EN_v01_M   \n",
       "62            WLD_2023_WFSO_v01_M   \n",
       "1616     SRB_2021_DHIPIE-EL_v01_M   \n",
       "2267        example-timeseries-01   \n",
       "2660             GB20240621_demo1   \n",
       "\n",
       "                                                  title abbreviation nation  \\\n",
       "id                                                                            \n",
       "7     Synthetic Data for an Imaginary Country, Sampl...         None          \n",
       "62                          World Food Security Outlook         None          \n",
       "1616  Inclusive Early Childhood Education and Care I...         None          \n",
       "2267  Example Timeseries - Travel services (% of com...         None          \n",
       "2660                                          Version 1         None          \n",
       "\n",
       "     year_start year_end published                    created  \\\n",
       "id                                                              \n",
       "7             0        0      None  2023-06-29T17:35:47-04:00   \n",
       "62            0        0      None  2023-11-10T11:09:23-05:00   \n",
       "1616          0        0      None  2024-03-14T09:58:11-04:00   \n",
       "2267          0        0      None  2024-04-04T14:16:01-04:00   \n",
       "2660          0        0      None  2024-06-21T16:06:36-04:00   \n",
       "\n",
       "                        changed varcount created_by changed_by is_shared  \\\n",
       "id                                                                         \n",
       "7     2023-06-29T17:35:47-04:00     None          1          1      None   \n",
       "62    2024-02-13T12:38:04-05:00     None          1          1         1   \n",
       "1616  2024-03-14T09:58:11-04:00     None          1          1      None   \n",
       "2267  2024-04-04T14:25:50-04:00     None          1          1      None   \n",
       "2660  2024-06-21T16:06:36-04:00     None         63         63      None   \n",
       "\n",
       "               thumbnail                      template_uid           username  \\\n",
       "id                                                                              \n",
       "7     thumbnail-1620.JPG                              None     mehmood asghar   \n",
       "62    thumbnail-1682.png                              None     mehmood asghar   \n",
       "1616                None                              None     mehmood asghar   \n",
       "2267                None                              None     mehmood asghar   \n",
       "2660                None  30ab32c7d62aa6e2801efcf336658dbb  Gordon Blackadder   \n",
       "\n",
       "            username_cr                                     collections  \n",
       "id                                                                       \n",
       "7        mehmood asghar     [{'id': '36', 'title': 'test', 'sid': '7'}]  \n",
       "62       mehmood asghar    [{'id': '36', 'title': 'test', 'sid': '62'}]  \n",
       "1616     mehmood asghar  [{'id': '36', 'title': 'test', 'sid': '1616'}]  \n",
       "2267     mehmood asghar  [{'id': '36', 'title': 'test', 'sid': '2267'}]  \n",
       "2660  Gordon Blackadder                                              []  "
      ]
     },
     "execution_count": 5,
     "metadata": {},
     "output_type": "execute_result"
    }
   ],
   "source": [
    "me.list_projects()"
   ]
  },
  {
   "cell_type": "code",
   "execution_count": 6,
   "metadata": {},
   "outputs": [
    {
     "data": {
      "text/plain": [
       "{'idno': 'GB20240621_demo1',\n",
       " 'series_description': {'idno': 'GB20240621_demo1',\n",
       "  'doi': 'V1',\n",
       "  'name': 'Version 1',\n",
       "  'display_name': 'Version 1'},\n",
       " 'changed_by': '63',\n",
       " 'changed': '1719000396'}"
      ]
     },
     "execution_count": 6,
     "metadata": {},
     "output_type": "execute_result"
    }
   ],
   "source": [
    "me.get_project_by_id(2660)['metadata']"
   ]
  },
  {
   "cell_type": "markdown",
   "metadata": {},
   "source": [
    "### Updating an existing project"
   ]
  },
  {
   "cell_type": "code",
   "execution_count": 7,
   "metadata": {},
   "outputs": [],
   "source": [
    "updated_series_description= {\n",
    "                \"idno\": \"GB20240621_demo1\",\n",
    "                \"doi\": \"V2\",\n",
    "                \"name\": \"Version 2\",\n",
    "                \"display_name\": \"Version 2\",\n",
    "                \"authoring_entity\": [{\"name\": \"example agency\"}]\n",
    "                }\n",
    "\n",
    "me.update_timeseries_by_id(2660, series_description=updated_series_description)"
   ]
  },
  {
   "cell_type": "code",
   "execution_count": 8,
   "metadata": {},
   "outputs": [
    {
     "data": {
      "text/plain": [
       "{'idno': 'GB20240621_demo1',\n",
       " 'series_description': {'idno': 'GB20240621_demo1',\n",
       "  'doi': 'V2',\n",
       "  'name': 'Version 2',\n",
       "  'display_name': 'Version 2',\n",
       "  'authoring_entity': [{'name': 'example agency'}]},\n",
       " 'changed_by': '63',\n",
       " 'changed': '1719000429'}"
      ]
     },
     "execution_count": 8,
     "metadata": {},
     "output_type": "execute_result"
    }
   ],
   "source": [
    "me.get_project_by_id(2660)['metadata']"
   ]
  },
  {
   "cell_type": "markdown",
   "metadata": {},
   "source": [
    "### Deleting a project (currently system admin has disabled deleting projects)"
   ]
  },
  {
   "cell_type": "code",
   "execution_count": 9,
   "metadata": {},
   "outputs": [
    {
     "ename": "DeleteNotAppliedError",
     "evalue": "Delete request not accepted by system.",
     "output_type": "error",
     "traceback": [
      "\u001b[1;31m---------------------------------------------------------------------------\u001b[0m",
      "\u001b[1;31mDeleteNotAppliedError\u001b[0m                     Traceback (most recent call last)",
      "Cell \u001b[1;32mIn[9], line 1\u001b[0m\n\u001b[1;32m----> 1\u001b[0m \u001b[43mme\u001b[49m\u001b[38;5;241;43m.\u001b[39;49m\u001b[43mdelete_project_by_id\u001b[49m\u001b[43m(\u001b[49m\u001b[38;5;241;43m2660\u001b[39;49m\u001b[43m)\u001b[49m\n",
      "File \u001b[1;32mc:\\Users\\wb625523\\sources\\pyMetadataEditor\\pymetadataeditor\\interface.py:195\u001b[0m, in \u001b[0;36mMetadataEditor.delete_project_by_id\u001b[1;34m(self, id)\u001b[0m\n\u001b[0;32m    193\u001b[0m     \u001b[38;5;28;01mpass\u001b[39;00m  \u001b[38;5;66;03m# evidently the entity was deleted because now it can't be found\u001b[39;00m\n\u001b[0;32m    194\u001b[0m \u001b[38;5;28;01melse\u001b[39;00m:\n\u001b[1;32m--> 195\u001b[0m     \u001b[38;5;28;01mraise\u001b[39;00m DeleteNotAppliedError()\n",
      "\u001b[1;31mDeleteNotAppliedError\u001b[0m: Delete request not accepted by system."
     ]
    }
   ],
   "source": [
    "me.delete_project_by_id(2660)"
   ]
  },
  {
   "cell_type": "markdown",
   "metadata": {},
   "source": [
    "## Explanatory Error Messages"
   ]
  },
  {
   "cell_type": "markdown",
   "metadata": {},
   "source": [
    "### When the URL is not secure"
   ]
  },
  {
   "cell_type": "code",
   "execution_count": 10,
   "metadata": {},
   "outputs": [
    {
     "ename": "ValidationError",
     "evalue": "1 validation error for MetadataEditor\napi_url\n  URL scheme should be 'https' [type=url_scheme, input_value='http://example.org/index.php/api/', input_type=str]\n    For further information visit https://errors.pydantic.dev/2.7/v/url_scheme",
     "output_type": "error",
     "traceback": [
      "\u001b[1;31m---------------------------------------------------------------------------\u001b[0m",
      "\u001b[1;31mValidationError\u001b[0m                           Traceback (most recent call last)",
      "Cell \u001b[1;32mIn[10], line 3\u001b[0m\n\u001b[0;32m      1\u001b[0m your_api_key \u001b[38;5;241m=\u001b[39m \u001b[38;5;124m\"\u001b[39m\u001b[38;5;124mbad key\u001b[39m\u001b[38;5;124m\"\u001b[39m\n\u001b[0;32m      2\u001b[0m api_url \u001b[38;5;241m=\u001b[39m \u001b[38;5;124m\"\u001b[39m\u001b[38;5;124mhttp://example.org/index.php/api/\u001b[39m\u001b[38;5;124m\"\u001b[39m\n\u001b[1;32m----> 3\u001b[0m me \u001b[38;5;241m=\u001b[39m \u001b[43mMetadataEditor\u001b[49m\u001b[43m(\u001b[49m\u001b[43mapi_url\u001b[49m\u001b[38;5;241;43m=\u001b[39;49m\u001b[43mapi_url\u001b[49m\u001b[43m,\u001b[49m\u001b[43m \u001b[49m\u001b[43mapi_key\u001b[49m\u001b[38;5;241;43m=\u001b[39;49m\u001b[43myour_api_key\u001b[49m\u001b[43m)\u001b[49m\n",
      "File \u001b[1;32mc:\\Users\\wb625523\\sources\\pyMetadataEditor\\.venv\\Lib\\site-packages\\pydantic\\main.py:176\u001b[0m, in \u001b[0;36mBaseModel.__init__\u001b[1;34m(self, **data)\u001b[0m\n\u001b[0;32m    174\u001b[0m \u001b[38;5;66;03m# `__tracebackhide__` tells pytest and some other tools to omit this function from tracebacks\u001b[39;00m\n\u001b[0;32m    175\u001b[0m __tracebackhide__ \u001b[38;5;241m=\u001b[39m \u001b[38;5;28;01mTrue\u001b[39;00m\n\u001b[1;32m--> 176\u001b[0m \u001b[38;5;28;43mself\u001b[39;49m\u001b[38;5;241;43m.\u001b[39;49m\u001b[43m__pydantic_validator__\u001b[49m\u001b[38;5;241;43m.\u001b[39;49m\u001b[43mvalidate_python\u001b[49m\u001b[43m(\u001b[49m\u001b[43mdata\u001b[49m\u001b[43m,\u001b[49m\u001b[43m \u001b[49m\u001b[43mself_instance\u001b[49m\u001b[38;5;241;43m=\u001b[39;49m\u001b[38;5;28;43mself\u001b[39;49m\u001b[43m)\u001b[49m\n",
      "\u001b[1;31mValidationError\u001b[0m: 1 validation error for MetadataEditor\napi_url\n  URL scheme should be 'https' [type=url_scheme, input_value='http://example.org/index.php/api/', input_type=str]\n    For further information visit https://errors.pydantic.dev/2.7/v/url_scheme"
     ]
    }
   ],
   "source": [
    "your_api_key = \"bad key\"\n",
    "api_url = \"http://example.org/index.php/api/\"\n",
    "me = MetadataEditor(api_url=api_url, api_key=your_api_key)"
   ]
  },
  {
   "cell_type": "markdown",
   "metadata": {},
   "source": [
    "### When the URL is wrong"
   ]
  },
  {
   "cell_type": "code",
   "execution_count": 11,
   "metadata": {},
   "outputs": [
    {
     "ename": "HTTPError",
     "evalue": "Page not found. Try checking the URL.\nGenerally the required URL looks like 'https://<name_of_your_metadata_database>.org/index.php/api', but the URL that was passed was 'https://example.org/index.php/api/'",
     "output_type": "error",
     "traceback": [
      "\u001b[1;31m---------------------------------------------------------------------------\u001b[0m",
      "\u001b[1;31mHTTPError\u001b[0m                                 Traceback (most recent call last)",
      "Cell \u001b[1;32mIn[11], line 3\u001b[0m\n\u001b[0;32m      1\u001b[0m your_api_key \u001b[38;5;241m=\u001b[39m \u001b[38;5;124m\"\u001b[39m\u001b[38;5;124mbad key\u001b[39m\u001b[38;5;124m\"\u001b[39m\n\u001b[0;32m      2\u001b[0m api_url \u001b[38;5;241m=\u001b[39m \u001b[38;5;124m\"\u001b[39m\u001b[38;5;124mhttps://example.org/index.php/api/\u001b[39m\u001b[38;5;124m\"\u001b[39m\n\u001b[1;32m----> 3\u001b[0m me \u001b[38;5;241m=\u001b[39m \u001b[43mMetadataEditor\u001b[49m\u001b[43m(\u001b[49m\u001b[43mapi_url\u001b[49m\u001b[38;5;241;43m=\u001b[39;49m\u001b[43mapi_url\u001b[49m\u001b[43m,\u001b[49m\u001b[43m \u001b[49m\u001b[43mapi_key\u001b[49m\u001b[38;5;241;43m=\u001b[39;49m\u001b[43myour_api_key\u001b[49m\u001b[43m)\u001b[49m\n",
      "    \u001b[1;31m[... skipping hidden 1 frame]\u001b[0m\n",
      "File \u001b[1;32mc:\\Users\\wb625523\\sources\\pyMetadataEditor\\pymetadataeditor\\interface.py:58\u001b[0m, in \u001b[0;36mMetadataEditor.check_endpoint_accessible\u001b[1;34m(self)\u001b[0m\n\u001b[0;32m     56\u001b[0m \u001b[38;5;129m@model_validator\u001b[39m(mode\u001b[38;5;241m=\u001b[39m\u001b[38;5;124m\"\u001b[39m\u001b[38;5;124mafter\u001b[39m\u001b[38;5;124m\"\u001b[39m)\n\u001b[0;32m     57\u001b[0m \u001b[38;5;28;01mdef\u001b[39;00m \u001b[38;5;21mcheck_endpoint_accessible\u001b[39m(\u001b[38;5;28mself\u001b[39m):\n\u001b[1;32m---> 58\u001b[0m     \u001b[38;5;28;43mself\u001b[39;49m\u001b[38;5;241;43m.\u001b[39;49m\u001b[43mlist_projects\u001b[49m\u001b[43m(\u001b[49m\u001b[43m)\u001b[49m\n\u001b[0;32m     59\u001b[0m     \u001b[38;5;28;01mreturn\u001b[39;00m \u001b[38;5;28mself\u001b[39m\n",
      "File \u001b[1;32mc:\\Users\\wb625523\\sources\\pyMetadataEditor\\pymetadataeditor\\interface.py:149\u001b[0m, in \u001b[0;36mMetadataEditor.list_projects\u001b[1;34m(self)\u001b[0m\n\u001b[0;32m    142\u001b[0m \u001b[38;5;250m\u001b[39m\u001b[38;5;124;03m\"\"\"\u001b[39;00m\n\u001b[0;32m    143\u001b[0m \u001b[38;5;124;03mLists all the projects associated with your API key.\u001b[39;00m\n\u001b[0;32m    144\u001b[0m \n\u001b[0;32m    145\u001b[0m \u001b[38;5;124;03mReturns:\u001b[39;00m\n\u001b[0;32m    146\u001b[0m \u001b[38;5;124;03m    pd.DataFrame: Projects sorted by the date on which they were created\u001b[39;00m\n\u001b[0;32m    147\u001b[0m \u001b[38;5;124;03m\"\"\"\u001b[39;00m\n\u001b[0;32m    148\u001b[0m list_projects_get_path \u001b[38;5;241m=\u001b[39m \u001b[38;5;124m\"\u001b[39m\u001b[38;5;124m/editor\u001b[39m\u001b[38;5;124m\"\u001b[39m\n\u001b[1;32m--> 149\u001b[0m response \u001b[38;5;241m=\u001b[39m \u001b[38;5;28;43mself\u001b[39;49m\u001b[38;5;241;43m.\u001b[39;49m\u001b[43m_get_request\u001b[49m\u001b[43m(\u001b[49m\u001b[43mlist_projects_get_path\u001b[49m\u001b[43m)\u001b[49m\n\u001b[0;32m    150\u001b[0m \u001b[38;5;28;01mtry\u001b[39;00m:\n\u001b[0;32m    151\u001b[0m     projects \u001b[38;5;241m=\u001b[39m response[\u001b[38;5;124m\"\u001b[39m\u001b[38;5;124mprojects\u001b[39m\u001b[38;5;124m\"\u001b[39m]\n",
      "File \u001b[1;32mc:\\Users\\wb625523\\sources\\pyMetadataEditor\\pymetadataeditor\\interface.py:128\u001b[0m, in \u001b[0;36mMetadataEditor._get_request\u001b[1;34m(self, pth, id)\u001b[0m\n\u001b[0;32m    120\u001b[0m \u001b[38;5;28;01mdef\u001b[39;00m \u001b[38;5;21m_get_request\u001b[39m(\u001b[38;5;28mself\u001b[39m, pth: \u001b[38;5;28mstr\u001b[39m, \u001b[38;5;28mid\u001b[39m: Optional[Union[\u001b[38;5;28mint\u001b[39m, \u001b[38;5;28mstr\u001b[39m]] \u001b[38;5;241m=\u001b[39m \u001b[38;5;28;01mNone\u001b[39;00m) \u001b[38;5;241m-\u001b[39m\u001b[38;5;241m>\u001b[39m Dict:\n\u001b[0;32m    121\u001b[0m \u001b[38;5;250m    \u001b[39m\u001b[38;5;124;03m\"\"\"\u001b[39;00m\n\u001b[0;32m    122\u001b[0m \u001b[38;5;124;03m    Args:\u001b[39;00m\n\u001b[0;32m    123\u001b[0m \u001b[38;5;124;03m        pth (str): The path appended to the API_URL to which the GET request is sent.\u001b[39;00m\n\u001b[1;32m   (...)\u001b[0m\n\u001b[0;32m    126\u001b[0m \u001b[38;5;124;03m        Dict[str, str]: The JSON response from the server, parsed into a dictionary.\u001b[39;00m\n\u001b[0;32m    127\u001b[0m \u001b[38;5;124;03m    \"\"\"\u001b[39;00m\n\u001b[1;32m--> 128\u001b[0m     \u001b[38;5;28;01mreturn\u001b[39;00m \u001b[38;5;28;43mself\u001b[39;49m\u001b[38;5;241;43m.\u001b[39;49m\u001b[43m_request\u001b[49m\u001b[43m(\u001b[49m\u001b[38;5;124;43m\"\u001b[39;49m\u001b[38;5;124;43mget\u001b[39;49m\u001b[38;5;124;43m\"\u001b[39;49m\u001b[43m,\u001b[49m\u001b[43m \u001b[49m\u001b[43mpth\u001b[49m\u001b[38;5;241;43m=\u001b[39;49m\u001b[43mpth\u001b[49m\u001b[43m,\u001b[49m\u001b[43m \u001b[49m\u001b[38;5;28;43mid\u001b[39;49m\u001b[38;5;241;43m=\u001b[39;49m\u001b[38;5;28;43mid\u001b[39;49m\u001b[43m)\u001b[49m\n",
      "File \u001b[1;32mc:\\Users\\wb625523\\sources\\pyMetadataEditor\\pymetadataeditor\\interface.py:105\u001b[0m, in \u001b[0;36mMetadataEditor._request\u001b[1;34m(self, method, pth, json, id)\u001b[0m\n\u001b[0;32m     99\u001b[0m \u001b[38;5;28;01mif\u001b[39;00m response \u001b[38;5;129;01mis\u001b[39;00m \u001b[38;5;28;01mNone\u001b[39;00m \u001b[38;5;129;01mor\u001b[39;00m response\u001b[38;5;241m.\u001b[39mstatus_code \u001b[38;5;241m==\u001b[39m \u001b[38;5;241m404\u001b[39m:\n\u001b[0;32m    100\u001b[0m     error_msg \u001b[38;5;241m=\u001b[39m (\n\u001b[0;32m    101\u001b[0m         \u001b[38;5;124mf\u001b[39m\u001b[38;5;124m\"\u001b[39m\u001b[38;5;124mPage not found. Try checking the URL.\u001b[39m\u001b[38;5;130;01m\\n\u001b[39;00m\u001b[38;5;124mGenerally the required URL looks like \u001b[39m\u001b[38;5;124m\"\u001b[39m\n\u001b[0;32m    102\u001b[0m         \u001b[38;5;124mf\u001b[39m\u001b[38;5;124m\"\u001b[39m\u001b[38;5;124m'\u001b[39m\u001b[38;5;124mhttps://<name_of_your_metadata_database>.org/index.php/api\u001b[39m\u001b[38;5;124m'\u001b[39m\u001b[38;5;124m, but the URL that was passed \u001b[39m\u001b[38;5;124m\"\u001b[39m\n\u001b[0;32m    103\u001b[0m         \u001b[38;5;124mf\u001b[39m\u001b[38;5;124m\"\u001b[39m\u001b[38;5;124mwas \u001b[39m\u001b[38;5;124m'\u001b[39m\u001b[38;5;132;01m{\u001b[39;00m\u001b[38;5;28mself\u001b[39m\u001b[38;5;241m.\u001b[39mapi_url\u001b[38;5;132;01m}\u001b[39;00m\u001b[38;5;124m'\u001b[39m\u001b[38;5;124m\"\u001b[39m\n\u001b[0;32m    104\u001b[0m     )\n\u001b[1;32m--> 105\u001b[0m     \u001b[38;5;28;01mraise\u001b[39;00m HTTPError(error_msg) \u001b[38;5;28;01mfrom\u001b[39;00m \u001b[38;5;28;01mNone\u001b[39;00m\n\u001b[0;32m    106\u001b[0m \u001b[38;5;28;01melif\u001b[39;00m response\u001b[38;5;241m.\u001b[39mstatus_code \u001b[38;5;241m==\u001b[39m \u001b[38;5;241m403\u001b[39m:\n\u001b[0;32m    107\u001b[0m     \u001b[38;5;28;01mraise\u001b[39;00m \u001b[38;5;167;01mPermissionError\u001b[39;00m(\n\u001b[0;32m    108\u001b[0m         \u001b[38;5;124mf\u001b[39m\u001b[38;5;124m\"\u001b[39m\u001b[38;5;124mAccess to that URL is denied. \u001b[39m\u001b[38;5;124m\"\u001b[39m \u001b[38;5;124mf\u001b[39m\u001b[38;5;124m\"\u001b[39m\u001b[38;5;124mCheck that the API key \u001b[39m\u001b[38;5;124m'\u001b[39m\u001b[38;5;132;01m{\u001b[39;00m\u001b[38;5;28mself\u001b[39m\u001b[38;5;241m.\u001b[39mapi_key\u001b[38;5;132;01m}\u001b[39;00m\u001b[38;5;124m'\u001b[39m\u001b[38;5;124m is correct\u001b[39m\u001b[38;5;124m\"\u001b[39m\n\u001b[0;32m    109\u001b[0m     ) \u001b[38;5;28;01mfrom\u001b[39;00m \u001b[38;5;28;01mNone\u001b[39;00m\n",
      "\u001b[1;31mHTTPError\u001b[0m: Page not found. Try checking the URL.\nGenerally the required URL looks like 'https://<name_of_your_metadata_database>.org/index.php/api', but the URL that was passed was 'https://example.org/index.php/api/'"
     ]
    }
   ],
   "source": [
    "your_api_key = \"bad key\"\n",
    "api_url = \"https://example.org/index.php/api/\"\n",
    "me = MetadataEditor(api_url=api_url, api_key=your_api_key)"
   ]
  },
  {
   "cell_type": "markdown",
   "metadata": {},
   "source": [
    "### When the api key is invalid"
   ]
  },
  {
   "cell_type": "code",
   "execution_count": 12,
   "metadata": {},
   "outputs": [
    {
     "ename": "PermissionError",
     "evalue": "Access to that URL is denied. Check that the API key 'bad_key' is correct",
     "output_type": "error",
     "traceback": [
      "\u001b[1;31m---------------------------------------------------------------------------\u001b[0m",
      "\u001b[1;31mPermissionError\u001b[0m                           Traceback (most recent call last)",
      "Cell \u001b[1;32mIn[12], line 2\u001b[0m\n\u001b[0;32m      1\u001b[0m api_key \u001b[38;5;241m=\u001b[39m \u001b[38;5;124m\"\u001b[39m\u001b[38;5;124mbad_key\u001b[39m\u001b[38;5;124m\"\u001b[39m\n\u001b[1;32m----> 2\u001b[0m me_bad \u001b[38;5;241m=\u001b[39m \u001b[43mMetadataEditor\u001b[49m\u001b[43m(\u001b[49m\u001b[43mapi_url\u001b[49m\u001b[38;5;241;43m=\u001b[39;49m\u001b[38;5;124;43m\"\u001b[39;49m\u001b[38;5;124;43mhttps://metadataeditorqa.worldbank.org/index.php/api\u001b[39;49m\u001b[38;5;124;43m\"\u001b[39;49m\u001b[43m,\u001b[49m\n\u001b[0;32m      3\u001b[0m \u001b[43m                        \u001b[49m\u001b[43mapi_key\u001b[49m\u001b[38;5;241;43m=\u001b[39;49m\u001b[43mapi_key\u001b[49m\u001b[43m)\u001b[49m\n\u001b[0;32m      4\u001b[0m me_bad\u001b[38;5;241m.\u001b[39mlist_projects()\n",
      "    \u001b[1;31m[... skipping hidden 1 frame]\u001b[0m\n",
      "File \u001b[1;32mc:\\Users\\wb625523\\sources\\pyMetadataEditor\\pymetadataeditor\\interface.py:58\u001b[0m, in \u001b[0;36mMetadataEditor.check_endpoint_accessible\u001b[1;34m(self)\u001b[0m\n\u001b[0;32m     56\u001b[0m \u001b[38;5;129m@model_validator\u001b[39m(mode\u001b[38;5;241m=\u001b[39m\u001b[38;5;124m\"\u001b[39m\u001b[38;5;124mafter\u001b[39m\u001b[38;5;124m\"\u001b[39m)\n\u001b[0;32m     57\u001b[0m \u001b[38;5;28;01mdef\u001b[39;00m \u001b[38;5;21mcheck_endpoint_accessible\u001b[39m(\u001b[38;5;28mself\u001b[39m):\n\u001b[1;32m---> 58\u001b[0m     \u001b[38;5;28;43mself\u001b[39;49m\u001b[38;5;241;43m.\u001b[39;49m\u001b[43mlist_projects\u001b[49m\u001b[43m(\u001b[49m\u001b[43m)\u001b[49m\n\u001b[0;32m     59\u001b[0m     \u001b[38;5;28;01mreturn\u001b[39;00m \u001b[38;5;28mself\u001b[39m\n",
      "File \u001b[1;32mc:\\Users\\wb625523\\sources\\pyMetadataEditor\\pymetadataeditor\\interface.py:149\u001b[0m, in \u001b[0;36mMetadataEditor.list_projects\u001b[1;34m(self)\u001b[0m\n\u001b[0;32m    142\u001b[0m \u001b[38;5;250m\u001b[39m\u001b[38;5;124;03m\"\"\"\u001b[39;00m\n\u001b[0;32m    143\u001b[0m \u001b[38;5;124;03mLists all the projects associated with your API key.\u001b[39;00m\n\u001b[0;32m    144\u001b[0m \n\u001b[0;32m    145\u001b[0m \u001b[38;5;124;03mReturns:\u001b[39;00m\n\u001b[0;32m    146\u001b[0m \u001b[38;5;124;03m    pd.DataFrame: Projects sorted by the date on which they were created\u001b[39;00m\n\u001b[0;32m    147\u001b[0m \u001b[38;5;124;03m\"\"\"\u001b[39;00m\n\u001b[0;32m    148\u001b[0m list_projects_get_path \u001b[38;5;241m=\u001b[39m \u001b[38;5;124m\"\u001b[39m\u001b[38;5;124m/editor\u001b[39m\u001b[38;5;124m\"\u001b[39m\n\u001b[1;32m--> 149\u001b[0m response \u001b[38;5;241m=\u001b[39m \u001b[38;5;28;43mself\u001b[39;49m\u001b[38;5;241;43m.\u001b[39;49m\u001b[43m_get_request\u001b[49m\u001b[43m(\u001b[49m\u001b[43mlist_projects_get_path\u001b[49m\u001b[43m)\u001b[49m\n\u001b[0;32m    150\u001b[0m \u001b[38;5;28;01mtry\u001b[39;00m:\n\u001b[0;32m    151\u001b[0m     projects \u001b[38;5;241m=\u001b[39m response[\u001b[38;5;124m\"\u001b[39m\u001b[38;5;124mprojects\u001b[39m\u001b[38;5;124m\"\u001b[39m]\n",
      "File \u001b[1;32mc:\\Users\\wb625523\\sources\\pyMetadataEditor\\pymetadataeditor\\interface.py:128\u001b[0m, in \u001b[0;36mMetadataEditor._get_request\u001b[1;34m(self, pth, id)\u001b[0m\n\u001b[0;32m    120\u001b[0m \u001b[38;5;28;01mdef\u001b[39;00m \u001b[38;5;21m_get_request\u001b[39m(\u001b[38;5;28mself\u001b[39m, pth: \u001b[38;5;28mstr\u001b[39m, \u001b[38;5;28mid\u001b[39m: Optional[Union[\u001b[38;5;28mint\u001b[39m, \u001b[38;5;28mstr\u001b[39m]] \u001b[38;5;241m=\u001b[39m \u001b[38;5;28;01mNone\u001b[39;00m) \u001b[38;5;241m-\u001b[39m\u001b[38;5;241m>\u001b[39m Dict:\n\u001b[0;32m    121\u001b[0m \u001b[38;5;250m    \u001b[39m\u001b[38;5;124;03m\"\"\"\u001b[39;00m\n\u001b[0;32m    122\u001b[0m \u001b[38;5;124;03m    Args:\u001b[39;00m\n\u001b[0;32m    123\u001b[0m \u001b[38;5;124;03m        pth (str): The path appended to the API_URL to which the GET request is sent.\u001b[39;00m\n\u001b[1;32m   (...)\u001b[0m\n\u001b[0;32m    126\u001b[0m \u001b[38;5;124;03m        Dict[str, str]: The JSON response from the server, parsed into a dictionary.\u001b[39;00m\n\u001b[0;32m    127\u001b[0m \u001b[38;5;124;03m    \"\"\"\u001b[39;00m\n\u001b[1;32m--> 128\u001b[0m     \u001b[38;5;28;01mreturn\u001b[39;00m \u001b[38;5;28;43mself\u001b[39;49m\u001b[38;5;241;43m.\u001b[39;49m\u001b[43m_request\u001b[49m\u001b[43m(\u001b[49m\u001b[38;5;124;43m\"\u001b[39;49m\u001b[38;5;124;43mget\u001b[39;49m\u001b[38;5;124;43m\"\u001b[39;49m\u001b[43m,\u001b[49m\u001b[43m \u001b[49m\u001b[43mpth\u001b[49m\u001b[38;5;241;43m=\u001b[39;49m\u001b[43mpth\u001b[49m\u001b[43m,\u001b[49m\u001b[43m \u001b[49m\u001b[38;5;28;43mid\u001b[39;49m\u001b[38;5;241;43m=\u001b[39;49m\u001b[38;5;28;43mid\u001b[39;49m\u001b[43m)\u001b[49m\n",
      "File \u001b[1;32mc:\\Users\\wb625523\\sources\\pyMetadataEditor\\pymetadataeditor\\interface.py:107\u001b[0m, in \u001b[0;36mMetadataEditor._request\u001b[1;34m(self, method, pth, json, id)\u001b[0m\n\u001b[0;32m    105\u001b[0m     \u001b[38;5;28;01mraise\u001b[39;00m HTTPError(error_msg) \u001b[38;5;28;01mfrom\u001b[39;00m \u001b[38;5;28;01mNone\u001b[39;00m\n\u001b[0;32m    106\u001b[0m \u001b[38;5;28;01melif\u001b[39;00m response\u001b[38;5;241m.\u001b[39mstatus_code \u001b[38;5;241m==\u001b[39m \u001b[38;5;241m403\u001b[39m:\n\u001b[1;32m--> 107\u001b[0m     \u001b[38;5;28;01mraise\u001b[39;00m \u001b[38;5;167;01mPermissionError\u001b[39;00m(\n\u001b[0;32m    108\u001b[0m         \u001b[38;5;124mf\u001b[39m\u001b[38;5;124m\"\u001b[39m\u001b[38;5;124mAccess to that URL is denied. \u001b[39m\u001b[38;5;124m\"\u001b[39m \u001b[38;5;124mf\u001b[39m\u001b[38;5;124m\"\u001b[39m\u001b[38;5;124mCheck that the API key \u001b[39m\u001b[38;5;124m'\u001b[39m\u001b[38;5;132;01m{\u001b[39;00m\u001b[38;5;28mself\u001b[39m\u001b[38;5;241m.\u001b[39mapi_key\u001b[38;5;132;01m}\u001b[39;00m\u001b[38;5;124m'\u001b[39m\u001b[38;5;124m is correct\u001b[39m\u001b[38;5;124m\"\u001b[39m\n\u001b[0;32m    109\u001b[0m     ) \u001b[38;5;28;01mfrom\u001b[39;00m \u001b[38;5;28;01mNone\u001b[39;00m\n\u001b[0;32m    110\u001b[0m \u001b[38;5;28;01melif\u001b[39;00m response\u001b[38;5;241m.\u001b[39mstatus_code \u001b[38;5;241m==\u001b[39m \u001b[38;5;241m400\u001b[39m \u001b[38;5;129;01mand\u001b[39;00m \u001b[38;5;28mid\u001b[39m \u001b[38;5;129;01mis\u001b[39;00m \u001b[38;5;129;01mnot\u001b[39;00m \u001b[38;5;28;01mNone\u001b[39;00m:\n\u001b[0;32m    111\u001b[0m     \u001b[38;5;28;01mraise\u001b[39;00m \u001b[38;5;167;01mPermissionError\u001b[39;00m(\u001b[38;5;124mf\u001b[39m\u001b[38;5;124m\"\u001b[39m\u001b[38;5;124mAccess to this id is denied. Check that the id \u001b[39m\u001b[38;5;124m'\u001b[39m\u001b[38;5;132;01m{\u001b[39;00m\u001b[38;5;28mid\u001b[39m\u001b[38;5;132;01m}\u001b[39;00m\u001b[38;5;124m'\u001b[39m\u001b[38;5;124m is correct\u001b[39m\u001b[38;5;124m\"\u001b[39m) \u001b[38;5;28;01mfrom\u001b[39;00m \u001b[38;5;28;01mNone\u001b[39;00m\n",
      "\u001b[1;31mPermissionError\u001b[0m: Access to that URL is denied. Check that the API key 'bad_key' is correct"
     ]
    }
   ],
   "source": [
    "api_key = \"bad_key\"\n",
    "me_bad = MetadataEditor(api_url=\"https://metadataeditorqa.worldbank.org/index.php/api\",\n",
    "                        api_key=api_key)\n",
    "me_bad.list_projects()"
   ]
  },
  {
   "cell_type": "markdown",
   "metadata": {},
   "source": [
    "### When required data is missing or the type is incorred"
   ]
  },
  {
   "cell_type": "code",
   "execution_count": 13,
   "metadata": {},
   "outputs": [
    {
     "ename": "ValidationError",
     "evalue": "2 validation errors for TimeseriesSchema\nseries_description.idno\n  Input should be a valid string [type=string_type, input_value=17, input_type=int]\n    For further information visit https://errors.pydantic.dev/2.7/v/string_type\nseries_description.name\n  Field required [type=missing, input_value={'idno': 17, 'doi': 'demoV1'}, input_type=dict]\n    For further information visit https://errors.pydantic.dev/2.7/v/missing",
     "output_type": "error",
     "traceback": [
      "\u001b[1;31m---------------------------------------------------------------------------\u001b[0m",
      "\u001b[1;31mValidationError\u001b[0m                           Traceback (most recent call last)",
      "Cell \u001b[1;32mIn[13], line 6\u001b[0m\n\u001b[0;32m      1\u001b[0m series_description \u001b[38;5;241m=\u001b[39m {\n\u001b[0;32m      2\u001b[0m                         \u001b[38;5;124m\"\u001b[39m\u001b[38;5;124midno\u001b[39m\u001b[38;5;124m\"\u001b[39m: \u001b[38;5;241m17\u001b[39m,\n\u001b[0;32m      3\u001b[0m                         \u001b[38;5;124m\"\u001b[39m\u001b[38;5;124mdoi\u001b[39m\u001b[38;5;124m\"\u001b[39m: \u001b[38;5;124m\"\u001b[39m\u001b[38;5;124mdemoV1\u001b[39m\u001b[38;5;124m\"\u001b[39m,\n\u001b[0;32m      4\u001b[0m                      }\n\u001b[1;32m----> 6\u001b[0m \u001b[43mme\u001b[49m\u001b[38;5;241;43m.\u001b[39;49m\u001b[43mcreate_timeseries\u001b[49m\u001b[43m(\u001b[49m\u001b[43midno\u001b[49m\u001b[38;5;241;43m=\u001b[39;49m\u001b[38;5;124;43m\"\u001b[39;49m\u001b[38;5;124;43mGB20240617_demo3\u001b[39;49m\u001b[38;5;124;43m\"\u001b[39;49m\u001b[43m,\u001b[49m\n\u001b[0;32m      7\u001b[0m \u001b[43m                     \u001b[49m\u001b[43mseries_description\u001b[49m\u001b[38;5;241;43m=\u001b[39;49m\u001b[43mseries_description\u001b[49m\u001b[43m)\u001b[49m\n",
      "File \u001b[1;32mc:\\Users\\wb625523\\sources\\pyMetadataEditor\\pymetadataeditor\\interface.py:257\u001b[0m, in \u001b[0;36mMetadataEditor.create_timeseries\u001b[1;34m(self, idno, series_description, metadata_information, datacite, provenance, tags, additional)\u001b[0m\n\u001b[0;32m    207\u001b[0m \u001b[38;5;250m\u001b[39m\u001b[38;5;124;03m\"\"\"\u001b[39;00m\n\u001b[0;32m    208\u001b[0m \u001b[38;5;124;03mCreates a record of your *timeseries* metadata\u001b[39;00m\n\u001b[0;32m    209\u001b[0m \n\u001b[1;32m   (...)\u001b[0m\n\u001b[0;32m    245\u001b[0m \u001b[38;5;124;03m... )\u001b[39;00m\n\u001b[0;32m    246\u001b[0m \u001b[38;5;124;03m\"\"\"\u001b[39;00m\n\u001b[0;32m    247\u001b[0m metadata \u001b[38;5;241m=\u001b[39m {\n\u001b[0;32m    248\u001b[0m     \u001b[38;5;124m\"\u001b[39m\u001b[38;5;124midno\u001b[39m\u001b[38;5;124m\"\u001b[39m: idno,\n\u001b[0;32m    249\u001b[0m     \u001b[38;5;124m\"\u001b[39m\u001b[38;5;124mmetadata_information\u001b[39m\u001b[38;5;124m\"\u001b[39m: metadata_information,\n\u001b[1;32m   (...)\u001b[0m\n\u001b[0;32m    254\u001b[0m     \u001b[38;5;124m\"\u001b[39m\u001b[38;5;124madditional\u001b[39m\u001b[38;5;124m\"\u001b[39m: additional,\n\u001b[0;32m    255\u001b[0m }\n\u001b[1;32m--> 257\u001b[0m \u001b[43mvalidate_metadata\u001b[49m\u001b[43m(\u001b[49m\u001b[43mmetadata\u001b[49m\u001b[43m,\u001b[49m\u001b[43m \u001b[49m\u001b[43mTimeseriesSchema\u001b[49m\u001b[43m)\u001b[49m\n\u001b[0;32m    258\u001b[0m ts \u001b[38;5;241m=\u001b[39m TimeseriesSchema(\u001b[38;5;241m*\u001b[39m\u001b[38;5;241m*\u001b[39mmetadata)\n\u001b[0;32m    260\u001b[0m post_request_pth \u001b[38;5;241m=\u001b[39m \u001b[38;5;124m\"\u001b[39m\u001b[38;5;124m/editor/create/timeseries\u001b[39m\u001b[38;5;124m\"\u001b[39m\n",
      "File \u001b[1;32mc:\\Users\\wb625523\\sources\\pyMetadataEditor\\pymetadataeditor\\tools.py:41\u001b[0m, in \u001b[0;36mvalidate_metadata\u001b[1;34m(metadata, schema_definition)\u001b[0m\n\u001b[0;32m     39\u001b[0m \u001b[38;5;28;01mif\u001b[39;00m \u001b[38;5;28misinstance\u001b[39m(metadata, SchemaBaseModel):\n\u001b[0;32m     40\u001b[0m     metadata \u001b[38;5;241m=\u001b[39m metadata\u001b[38;5;241m.\u001b[39mmodel_dump()  \u001b[38;5;66;03m# SchemaBaseModel validates on assignment so shouldn't need to be re-validated\u001b[39;00m\n\u001b[1;32m---> 41\u001b[0m \u001b[43mschema_definition\u001b[49m\u001b[38;5;241;43m.\u001b[39;49m\u001b[43mmodel_validate\u001b[49m\u001b[43m(\u001b[49m\u001b[43mmetadata\u001b[49m\u001b[43m)\u001b[49m\n",
      "File \u001b[1;32mc:\\Users\\wb625523\\sources\\pyMetadataEditor\\.venv\\Lib\\site-packages\\pydantic\\main.py:551\u001b[0m, in \u001b[0;36mBaseModel.model_validate\u001b[1;34m(cls, obj, strict, from_attributes, context)\u001b[0m\n\u001b[0;32m    549\u001b[0m \u001b[38;5;66;03m# `__tracebackhide__` tells pytest and some other tools to omit this function from tracebacks\u001b[39;00m\n\u001b[0;32m    550\u001b[0m __tracebackhide__ \u001b[38;5;241m=\u001b[39m \u001b[38;5;28;01mTrue\u001b[39;00m\n\u001b[1;32m--> 551\u001b[0m \u001b[38;5;28;01mreturn\u001b[39;00m \u001b[38;5;28;43mcls\u001b[39;49m\u001b[38;5;241;43m.\u001b[39;49m\u001b[43m__pydantic_validator__\u001b[49m\u001b[38;5;241;43m.\u001b[39;49m\u001b[43mvalidate_python\u001b[49m\u001b[43m(\u001b[49m\n\u001b[0;32m    552\u001b[0m \u001b[43m    \u001b[49m\u001b[43mobj\u001b[49m\u001b[43m,\u001b[49m\u001b[43m \u001b[49m\u001b[43mstrict\u001b[49m\u001b[38;5;241;43m=\u001b[39;49m\u001b[43mstrict\u001b[49m\u001b[43m,\u001b[49m\u001b[43m \u001b[49m\u001b[43mfrom_attributes\u001b[49m\u001b[38;5;241;43m=\u001b[39;49m\u001b[43mfrom_attributes\u001b[49m\u001b[43m,\u001b[49m\u001b[43m \u001b[49m\u001b[43mcontext\u001b[49m\u001b[38;5;241;43m=\u001b[39;49m\u001b[43mcontext\u001b[49m\n\u001b[0;32m    553\u001b[0m \u001b[43m\u001b[49m\u001b[43m)\u001b[49m\n",
      "\u001b[1;31mValidationError\u001b[0m: 2 validation errors for TimeseriesSchema\nseries_description.idno\n  Input should be a valid string [type=string_type, input_value=17, input_type=int]\n    For further information visit https://errors.pydantic.dev/2.7/v/string_type\nseries_description.name\n  Field required [type=missing, input_value={'idno': 17, 'doi': 'demoV1'}, input_type=dict]\n    For further information visit https://errors.pydantic.dev/2.7/v/missing"
     ]
    }
   ],
   "source": [
    "series_description = {\n",
    "                        \"idno\": 17,\n",
    "                        \"doi\": \"demoV1\",\n",
    "                     }\n",
    "\n",
    "me.create_timeseries(idno=\"GB20240617_demo3\",\n",
    "                     series_description=series_description)"
   ]
  },
  {
   "cell_type": "markdown",
   "metadata": {},
   "source": [
    "### When the id is incorrect"
   ]
  },
  {
   "cell_type": "code",
   "execution_count": 14,
   "metadata": {},
   "outputs": [
    {
     "ename": "PermissionError",
     "evalue": "Access to this id is denied. Check that the id '1' is correct",
     "output_type": "error",
     "traceback": [
      "\u001b[1;31m---------------------------------------------------------------------------\u001b[0m",
      "\u001b[1;31mPermissionError\u001b[0m                           Traceback (most recent call last)",
      "Cell \u001b[1;32mIn[14], line 9\u001b[0m\n\u001b[0;32m      1\u001b[0m series_description\u001b[38;5;241m=\u001b[39m {\n\u001b[0;32m      2\u001b[0m                 \u001b[38;5;124m\"\u001b[39m\u001b[38;5;124midno\u001b[39m\u001b[38;5;124m\"\u001b[39m: \u001b[38;5;124m\"\u001b[39m\u001b[38;5;124mGB20240617_demo1\u001b[39m\u001b[38;5;124m\"\u001b[39m,\n\u001b[0;32m      3\u001b[0m                 \u001b[38;5;124m\"\u001b[39m\u001b[38;5;124mdoi\u001b[39m\u001b[38;5;124m\"\u001b[39m: \u001b[38;5;124m\"\u001b[39m\u001b[38;5;124mV2\u001b[39m\u001b[38;5;124m\"\u001b[39m,\n\u001b[1;32m   (...)\u001b[0m\n\u001b[0;32m      6\u001b[0m                 \u001b[38;5;124m\"\u001b[39m\u001b[38;5;124mauthoring_entity\u001b[39m\u001b[38;5;124m\"\u001b[39m: [{\u001b[38;5;124m\"\u001b[39m\u001b[38;5;124mname\u001b[39m\u001b[38;5;124m\"\u001b[39m: \u001b[38;5;124m\"\u001b[39m\u001b[38;5;124mexample agency\u001b[39m\u001b[38;5;124m\"\u001b[39m}]\n\u001b[0;32m      7\u001b[0m                 }\n\u001b[1;32m----> 9\u001b[0m \u001b[43mme\u001b[49m\u001b[38;5;241;43m.\u001b[39;49m\u001b[43mupdate_timeseries_by_id\u001b[49m\u001b[43m(\u001b[49m\u001b[38;5;241;43m1\u001b[39;49m\u001b[43m,\u001b[49m\n\u001b[0;32m     10\u001b[0m \u001b[43m                           \u001b[49m\u001b[43mseries_description\u001b[49m\u001b[38;5;241;43m=\u001b[39;49m\u001b[43mseries_description\u001b[49m\u001b[43m)\u001b[49m\n",
      "File \u001b[1;32mc:\\Users\\wb625523\\sources\\pyMetadataEditor\\pymetadataeditor\\interface.py:301\u001b[0m, in \u001b[0;36mMetadataEditor.update_timeseries_by_id\u001b[1;34m(self, id, series_description, metadata_information, datacite, provenance, tags, additional)\u001b[0m\n\u001b[0;32m    274\u001b[0m \u001b[38;5;250m\u001b[39m\u001b[38;5;124;03m\"\"\"\u001b[39;00m\n\u001b[0;32m    275\u001b[0m \u001b[38;5;124;03mArgs:\u001b[39;00m\n\u001b[0;32m    276\u001b[0m \u001b[38;5;124;03m    id (int): the id of the project, not to be confused with the idno.\u001b[39;00m\n\u001b[1;32m   (...)\u001b[0m\n\u001b[0;32m    291\u001b[0m \n\u001b[0;32m    292\u001b[0m \u001b[38;5;124;03m\"\"\"\u001b[39;00m\n\u001b[0;32m    293\u001b[0m \u001b[38;5;66;03m# todo(gblackadder) as implemented, if the user wants to update a single value within series_description, for\u001b[39;00m\n\u001b[0;32m    294\u001b[0m \u001b[38;5;66;03m# example, they need to write out the entire series description, writing out again the elements they don't want\u001b[39;00m\n\u001b[0;32m    295\u001b[0m \u001b[38;5;66;03m# changed. A good workflow would be to get metadata by id as a TimeSeriesMetadata object and help users update\u001b[39;00m\n\u001b[1;32m   (...)\u001b[0m\n\u001b[0;32m    299\u001b[0m \u001b[38;5;66;03m#   https://metadataeditorqa.worldbank.org/api-documentation/editor/#operation/createTimeseries\u001b[39;00m\n\u001b[0;32m    300\u001b[0m \u001b[38;5;66;03m#   implies you can but in my observation from calling the api, you cannot\u001b[39;00m\n\u001b[1;32m--> 301\u001b[0m metadata \u001b[38;5;241m=\u001b[39m \u001b[38;5;28;43mself\u001b[39;49m\u001b[38;5;241;43m.\u001b[39;49m\u001b[43mget_project_by_id\u001b[49m\u001b[43m(\u001b[49m\u001b[38;5;28;43mid\u001b[39;49m\u001b[43m)\u001b[49m[\u001b[38;5;124m\"\u001b[39m\u001b[38;5;124mmetadata\u001b[39m\u001b[38;5;124m\"\u001b[39m]\n\u001b[0;32m    302\u001b[0m ts \u001b[38;5;241m=\u001b[39m TimeseriesSchema(\n\u001b[0;32m    303\u001b[0m     idno\u001b[38;5;241m=\u001b[39mmetadata[\u001b[38;5;124m\"\u001b[39m\u001b[38;5;124midno\u001b[39m\u001b[38;5;124m\"\u001b[39m],\n\u001b[0;32m    304\u001b[0m     metadata_information\u001b[38;5;241m=\u001b[39mmetadata\u001b[38;5;241m.\u001b[39mget(\u001b[38;5;124m\"\u001b[39m\u001b[38;5;124mmetadata_information\u001b[39m\u001b[38;5;124m\"\u001b[39m, \u001b[38;5;28;01mNone\u001b[39;00m),\n\u001b[1;32m   (...)\u001b[0m\n\u001b[0;32m    309\u001b[0m     additional\u001b[38;5;241m=\u001b[39mmetadata\u001b[38;5;241m.\u001b[39mget(\u001b[38;5;124m\"\u001b[39m\u001b[38;5;124madditional\u001b[39m\u001b[38;5;124m\"\u001b[39m, \u001b[38;5;28;01mNone\u001b[39;00m),\n\u001b[0;32m    310\u001b[0m )\n\u001b[0;32m    312\u001b[0m ts \u001b[38;5;241m=\u001b[39m update_metadata(\n\u001b[0;32m    313\u001b[0m     ts,\n\u001b[0;32m    314\u001b[0m     series_description\u001b[38;5;241m=\u001b[39mseries_description,\n\u001b[1;32m   (...)\u001b[0m\n\u001b[0;32m    319\u001b[0m     additional\u001b[38;5;241m=\u001b[39madditional,\n\u001b[0;32m    320\u001b[0m )\n",
      "File \u001b[1;32mc:\\Users\\wb625523\\sources\\pyMetadataEditor\\pymetadataeditor\\interface.py:166\u001b[0m, in \u001b[0;36mMetadataEditor.get_project_by_id\u001b[1;34m(self, id)\u001b[0m\n\u001b[0;32m    164\u001b[0m \u001b[38;5;66;03m#  todo(gblackadder) we could implement a get project by **idno** by using list projects and then filtering\u001b[39;00m\n\u001b[0;32m    165\u001b[0m get_project_template \u001b[38;5;241m=\u001b[39m \u001b[38;5;124m\"\u001b[39m\u001b[38;5;124m/editor/\u001b[39m\u001b[38;5;132;01m{}\u001b[39;00m\u001b[38;5;124m\"\u001b[39m\n\u001b[1;32m--> 166\u001b[0m response \u001b[38;5;241m=\u001b[39m \u001b[38;5;28;43mself\u001b[39;49m\u001b[38;5;241;43m.\u001b[39;49m\u001b[43m_get_request\u001b[49m\u001b[43m(\u001b[49m\u001b[43mget_project_template\u001b[49m\u001b[43m,\u001b[49m\u001b[43m \u001b[49m\u001b[38;5;28;43mid\u001b[39;49m\u001b[38;5;241;43m=\u001b[39;49m\u001b[38;5;28;43mid\u001b[39;49m\u001b[43m)\u001b[49m\n\u001b[0;32m    167\u001b[0m \u001b[38;5;28;01mreturn\u001b[39;00m pd\u001b[38;5;241m.\u001b[39mSeries(response[\u001b[38;5;124m\"\u001b[39m\u001b[38;5;124mproject\u001b[39m\u001b[38;5;124m\"\u001b[39m])\n",
      "File \u001b[1;32mc:\\Users\\wb625523\\sources\\pyMetadataEditor\\pymetadataeditor\\interface.py:128\u001b[0m, in \u001b[0;36mMetadataEditor._get_request\u001b[1;34m(self, pth, id)\u001b[0m\n\u001b[0;32m    120\u001b[0m \u001b[38;5;28;01mdef\u001b[39;00m \u001b[38;5;21m_get_request\u001b[39m(\u001b[38;5;28mself\u001b[39m, pth: \u001b[38;5;28mstr\u001b[39m, \u001b[38;5;28mid\u001b[39m: Optional[Union[\u001b[38;5;28mint\u001b[39m, \u001b[38;5;28mstr\u001b[39m]] \u001b[38;5;241m=\u001b[39m \u001b[38;5;28;01mNone\u001b[39;00m) \u001b[38;5;241m-\u001b[39m\u001b[38;5;241m>\u001b[39m Dict:\n\u001b[0;32m    121\u001b[0m \u001b[38;5;250m    \u001b[39m\u001b[38;5;124;03m\"\"\"\u001b[39;00m\n\u001b[0;32m    122\u001b[0m \u001b[38;5;124;03m    Args:\u001b[39;00m\n\u001b[0;32m    123\u001b[0m \u001b[38;5;124;03m        pth (str): The path appended to the API_URL to which the GET request is sent.\u001b[39;00m\n\u001b[1;32m   (...)\u001b[0m\n\u001b[0;32m    126\u001b[0m \u001b[38;5;124;03m        Dict[str, str]: The JSON response from the server, parsed into a dictionary.\u001b[39;00m\n\u001b[0;32m    127\u001b[0m \u001b[38;5;124;03m    \"\"\"\u001b[39;00m\n\u001b[1;32m--> 128\u001b[0m     \u001b[38;5;28;01mreturn\u001b[39;00m \u001b[38;5;28;43mself\u001b[39;49m\u001b[38;5;241;43m.\u001b[39;49m\u001b[43m_request\u001b[49m\u001b[43m(\u001b[49m\u001b[38;5;124;43m\"\u001b[39;49m\u001b[38;5;124;43mget\u001b[39;49m\u001b[38;5;124;43m\"\u001b[39;49m\u001b[43m,\u001b[49m\u001b[43m \u001b[49m\u001b[43mpth\u001b[49m\u001b[38;5;241;43m=\u001b[39;49m\u001b[43mpth\u001b[49m\u001b[43m,\u001b[49m\u001b[43m \u001b[49m\u001b[38;5;28;43mid\u001b[39;49m\u001b[38;5;241;43m=\u001b[39;49m\u001b[38;5;28;43mid\u001b[39;49m\u001b[43m)\u001b[49m\n",
      "File \u001b[1;32mc:\\Users\\wb625523\\sources\\pyMetadataEditor\\pymetadataeditor\\interface.py:111\u001b[0m, in \u001b[0;36mMetadataEditor._request\u001b[1;34m(self, method, pth, json, id)\u001b[0m\n\u001b[0;32m    107\u001b[0m     \u001b[38;5;28;01mraise\u001b[39;00m \u001b[38;5;167;01mPermissionError\u001b[39;00m(\n\u001b[0;32m    108\u001b[0m         \u001b[38;5;124mf\u001b[39m\u001b[38;5;124m\"\u001b[39m\u001b[38;5;124mAccess to that URL is denied. \u001b[39m\u001b[38;5;124m\"\u001b[39m \u001b[38;5;124mf\u001b[39m\u001b[38;5;124m\"\u001b[39m\u001b[38;5;124mCheck that the API key \u001b[39m\u001b[38;5;124m'\u001b[39m\u001b[38;5;132;01m{\u001b[39;00m\u001b[38;5;28mself\u001b[39m\u001b[38;5;241m.\u001b[39mapi_key\u001b[38;5;132;01m}\u001b[39;00m\u001b[38;5;124m'\u001b[39m\u001b[38;5;124m is correct\u001b[39m\u001b[38;5;124m\"\u001b[39m\n\u001b[0;32m    109\u001b[0m     ) \u001b[38;5;28;01mfrom\u001b[39;00m \u001b[38;5;28;01mNone\u001b[39;00m\n\u001b[0;32m    110\u001b[0m \u001b[38;5;28;01melif\u001b[39;00m response\u001b[38;5;241m.\u001b[39mstatus_code \u001b[38;5;241m==\u001b[39m \u001b[38;5;241m400\u001b[39m \u001b[38;5;129;01mand\u001b[39;00m \u001b[38;5;28mid\u001b[39m \u001b[38;5;129;01mis\u001b[39;00m \u001b[38;5;129;01mnot\u001b[39;00m \u001b[38;5;28;01mNone\u001b[39;00m:\n\u001b[1;32m--> 111\u001b[0m     \u001b[38;5;28;01mraise\u001b[39;00m \u001b[38;5;167;01mPermissionError\u001b[39;00m(\u001b[38;5;124mf\u001b[39m\u001b[38;5;124m\"\u001b[39m\u001b[38;5;124mAccess to this id is denied. Check that the id \u001b[39m\u001b[38;5;124m'\u001b[39m\u001b[38;5;132;01m{\u001b[39;00m\u001b[38;5;28mid\u001b[39m\u001b[38;5;132;01m}\u001b[39;00m\u001b[38;5;124m'\u001b[39m\u001b[38;5;124m is correct\u001b[39m\u001b[38;5;124m\"\u001b[39m) \u001b[38;5;28;01mfrom\u001b[39;00m \u001b[38;5;28;01mNone\u001b[39;00m\n\u001b[0;32m    112\u001b[0m \u001b[38;5;28;01melse\u001b[39;00m:\n\u001b[0;32m    113\u001b[0m     \u001b[38;5;28;01mraise\u001b[39;00m \u001b[38;5;167;01mException\u001b[39;00m(\n\u001b[0;32m    114\u001b[0m         \u001b[38;5;124mf\u001b[39m\u001b[38;5;124m\"\u001b[39m\u001b[38;5;124mStatus Code: \u001b[39m\u001b[38;5;132;01m{\u001b[39;00mresponse\u001b[38;5;241m.\u001b[39mstatus_code\u001b[38;5;132;01m}\u001b[39;00m\u001b[38;5;124m, Response: \u001b[39m\u001b[38;5;132;01m{\u001b[39;00mresponse\u001b[38;5;241m.\u001b[39mtext\u001b[38;5;132;01m}\u001b[39;00m\u001b[38;5;124m\"\u001b[39m\n\u001b[0;32m    115\u001b[0m     ) \u001b[38;5;28;01mfrom\u001b[39;00m \u001b[38;5;21;01me\u001b[39;00m\n",
      "\u001b[1;31mPermissionError\u001b[0m: Access to this id is denied. Check that the id '1' is correct"
     ]
    }
   ],
   "source": [
    "series_description= {\n",
    "                \"idno\": \"GB20240617_demo1\",\n",
    "                \"doi\": \"V2\",\n",
    "                \"name\": \"Version 2\",\n",
    "                \"display_name\": \"Version 2\",\n",
    "                \"authoring_entity\": [{\"name\": \"example agency\"}]\n",
    "                }\n",
    "\n",
    "me.update_timeseries_by_id(1,\n",
    "                           series_description=series_description)"
   ]
  },
  {
   "cell_type": "markdown",
   "metadata": {},
   "source": [
    "## Help defining valid metadata\n",
    "\n",
    "Instead of passing in dictionaries (indeed dictionaries of dictionaries of dictionaries), we can use predefined objects that help identify which fields are required and the data type of each field. These can be passed to the create and update functions just like dictionaries.\n",
    "\n",
    "We have defined objects for each field within the timeseries schema:\n",
    "\n",
    "* metadata information\n",
    "    * producers\n",
    "    * version statement\n",
    "* series description\n",
    "    * authoring entity\n",
    "    * version statement\n",
    "    * alias\n",
    "    * alternate identifier\n",
    "    * language\n",
    "    * dimension\n",
    "    * references used for definition references, statistical concept references, methodology references, derivation references, imputation references, aggregation method references\n",
    "    * concept\n",
    "    * data collection\n",
    "    * theme\n",
    "    * topic\n",
    "    * discipline\n",
    "    * mandata\n",
    "    * time period\n",
    "    * ref country\n",
    "    * geographic unit\n",
    "    * bbox\n",
    "    * license\n",
    "    * links\n",
    "    * api documentation\n",
    "    * sources\n",
    "        * other identifiers\n",
    "        * author\n",
    "            * author id\n",
    "        * dataset\n",
    "    * keyword\n",
    "    * acronym\n",
    "    * errata\n",
    "    * acknowledgement\n",
    "    * note\n",
    "    * related indicator\n",
    "    * compliance\n",
    "    * framework\n",
    "    * series group\n",
    "    *contact\n",
    "* datacite schema\n",
    "    * creator\n",
    "    * title\n",
    "    * type\n",
    "* provenance schema\n",
    "    * origin description\n",
    "* tags"
   ]
  },
  {
   "cell_type": "code",
   "execution_count": 15,
   "metadata": {},
   "outputs": [
    {
     "data": {
      "text/plain": [
       "SeriesDescription(idno='example_idno', doi=None, name='example_name', display_name=None, authoring_entity=None, database_id=None, database_name=None, date_last_update=None, date_released=None, version_statement=None, aliases=None, alternate_identifiers=None, languages=None, measurement_unit=None, dimensions=None, release_calendar=None, periodicity=None, base_period=None, definition_short=None, definition_long=None, definition_references=None, statistical_concept=None, statistical_concept_references=None, concepts=None, data_collection=None, methodology=None, methodology_references=None, derivation=None, derivation_references=None, imputation=None, imputation_references=None, adjustments=None, missing=None, validation_rules=None, quality_checks=None, quality_note=None, sources_discrepancies=None, series_break=None, limitation=None, themes=None, topics=None, disciplines=None, relevance=None, mandate=None, time_periods=None, ref_country=None, geographic_units=None, bbox=None, aggregation_method=None, aggregation_method_references=None, disaggregation=None, license=None, confidentiality=None, confidentiality_status=None, confidentiality_note=None, citation_requirement=None, links=None, api_documentation=None, sources=None, sources_note=None, keywords=None, acronyms=None, errata=None, acknowledgements=None, acknowledgement_statement=None, disclaimer=None, notes=None, related_indicators=None, compliance=None, framework=None, series_groups=None, contacts=None)"
      ]
     },
     "execution_count": 15,
     "metadata": {},
     "output_type": "execute_result"
    }
   ],
   "source": [
    "import pymetadataeditor.schemas as ms\n",
    "\n",
    "ms.SeriesDescription(idno=\"example_idno\",\n",
    "                     name=\"example_name\")"
   ]
  },
  {
   "cell_type": "markdown",
   "metadata": {},
   "source": [
    "### Subfields\n",
    "Complex fields with lots of hierarchy can be built up"
   ]
  },
  {
   "cell_type": "code",
   "execution_count": 18,
   "metadata": {},
   "outputs": [
    {
     "data": {
      "text/plain": [
       "{'idno': 'GB20240621_demo1',\n",
       " 'series_description': {'idno': 'GB20240621_demo1',\n",
       "  'doi': 'V3',\n",
       "  'name': 'Version 3',\n",
       "  'display_name': 'Version 3',\n",
       "  'authoring_entity': [{'name': 'example agency',\n",
       "    'affiliation': 'parent agency',\n",
       "    'uri': 'http://example.com'}],\n",
       "  'sources': [{'idno': 'relatedSourceId',\n",
       "    'name': 'First Source',\n",
       "    'authors': [{'first_name': 'Gordon',\n",
       "      'last_name': 'Blackadder',\n",
       "      'affiliation': 'World Bank Group'}]},\n",
       "   {'name': 'Second Source', 'access_date': '2024-06-17'}]},\n",
       " 'changed_by': '63',\n",
       " 'changed': '1719000589'}"
      ]
     },
     "execution_count": 18,
     "metadata": {},
     "output_type": "execute_result"
    }
   ],
   "source": [
    "authoring_entity = ms.AuthoringEntityItem(name=\"example agency\",\n",
    "                                      affiliation=\"parent agency\",\n",
    "                                      uri = \"http://example.com\")\n",
    "\n",
    "author_1a = ms.Author(first_name=\"Gordon\", last_name=\"Blackadder\", affiliation=\"World Bank Group\")\n",
    "source_1 = ms.Source(idno=\"relatedSourceId\",\n",
    "                     name=\"First Source\",\n",
    "                     authors = [author_1a]\n",
    "                     )\n",
    "\n",
    "source_2 = ms.Source(name=\"Second Source\", access_date=\"2024-06-17\")\n",
    "\n",
    "updated_series_description = ms.SeriesDescription(idno=\"GB20240621_demo1\",\n",
    "                                                  doi=\"V3\",\n",
    "                                                  name=\"Version 3\",\n",
    "                                                  display_name=\"Version 3\",\n",
    "                                                  authoring_entity=[authoring_entity],\n",
    "                                                  sources=[source_1, source_2])\n",
    "\n",
    "\n",
    "me.update_timeseries_by_id(2660, series_description=updated_series_description)\n",
    "me.get_project_by_id(2660)['metadata']"
   ]
  },
  {
   "cell_type": "markdown",
   "metadata": {},
   "source": [
    "### If a required field is missing there is a clear error message"
   ]
  },
  {
   "cell_type": "code",
   "execution_count": 19,
   "metadata": {},
   "outputs": [
    {
     "ename": "ValidationError",
     "evalue": "1 validation error for SeriesDescription\nname\n  Field required [type=missing, input_value={'idno': 'example_idno'}, input_type=dict]\n    For further information visit https://errors.pydantic.dev/2.7/v/missing",
     "output_type": "error",
     "traceback": [
      "\u001b[1;31m---------------------------------------------------------------------------\u001b[0m",
      "\u001b[1;31mValidationError\u001b[0m                           Traceback (most recent call last)",
      "Cell \u001b[1;32mIn[19], line 1\u001b[0m\n\u001b[1;32m----> 1\u001b[0m \u001b[43mms\u001b[49m\u001b[38;5;241;43m.\u001b[39;49m\u001b[43mSeriesDescription\u001b[49m\u001b[43m(\u001b[49m\u001b[43midno\u001b[49m\u001b[38;5;241;43m=\u001b[39;49m\u001b[38;5;124;43m\"\u001b[39;49m\u001b[38;5;124;43mexample_idno\u001b[39;49m\u001b[38;5;124;43m\"\u001b[39;49m\u001b[43m)\u001b[49m  \u001b[38;5;66;03m# the field 'name' is required but missing here\u001b[39;00m\n",
      "File \u001b[1;32mc:\\Users\\wb625523\\sources\\pyMetadataEditor\\.venv\\Lib\\site-packages\\pydantic\\main.py:176\u001b[0m, in \u001b[0;36mBaseModel.__init__\u001b[1;34m(self, **data)\u001b[0m\n\u001b[0;32m    174\u001b[0m \u001b[38;5;66;03m# `__tracebackhide__` tells pytest and some other tools to omit this function from tracebacks\u001b[39;00m\n\u001b[0;32m    175\u001b[0m __tracebackhide__ \u001b[38;5;241m=\u001b[39m \u001b[38;5;28;01mTrue\u001b[39;00m\n\u001b[1;32m--> 176\u001b[0m \u001b[38;5;28;43mself\u001b[39;49m\u001b[38;5;241;43m.\u001b[39;49m\u001b[43m__pydantic_validator__\u001b[49m\u001b[38;5;241;43m.\u001b[39;49m\u001b[43mvalidate_python\u001b[49m\u001b[43m(\u001b[49m\u001b[43mdata\u001b[49m\u001b[43m,\u001b[49m\u001b[43m \u001b[49m\u001b[43mself_instance\u001b[49m\u001b[38;5;241;43m=\u001b[39;49m\u001b[38;5;28;43mself\u001b[39;49m\u001b[43m)\u001b[49m\n",
      "\u001b[1;31mValidationError\u001b[0m: 1 validation error for SeriesDescription\nname\n  Field required [type=missing, input_value={'idno': 'example_idno'}, input_type=dict]\n    For further information visit https://errors.pydantic.dev/2.7/v/missing"
     ]
    }
   ],
   "source": [
    "ms.SeriesDescription(idno=\"example_idno\")  # the field 'name' is required but missing here"
   ]
  },
  {
   "cell_type": "markdown",
   "metadata": {},
   "source": [
    "### If a field has the wrong type there is also a clear error message"
   ]
  },
  {
   "cell_type": "code",
   "execution_count": 20,
   "metadata": {},
   "outputs": [
    {
     "ename": "ValidationError",
     "evalue": "2 validation errors for MetadataInformation\ntitle\n  Input should be a valid string [type=string_type, input_value=17, input_type=int]\n    For further information visit https://errors.pydantic.dev/2.7/v/string_type\nproducers\n  Input should be a valid list [type=list_type, input_value={'name': 'example_agency'}, input_type=dict]\n    For further information visit https://errors.pydantic.dev/2.7/v/list_type",
     "output_type": "error",
     "traceback": [
      "\u001b[1;31m---------------------------------------------------------------------------\u001b[0m",
      "\u001b[1;31mValidationError\u001b[0m                           Traceback (most recent call last)",
      "Cell \u001b[1;32mIn[20], line 1\u001b[0m\n\u001b[1;32m----> 1\u001b[0m \u001b[43mms\u001b[49m\u001b[38;5;241;43m.\u001b[39;49m\u001b[43mMetadataInformation\u001b[49m\u001b[43m(\u001b[49m\u001b[43mtitle\u001b[49m\u001b[38;5;241;43m=\u001b[39;49m\u001b[38;5;241;43m17\u001b[39;49m\u001b[43m,\u001b[49m\u001b[43m \u001b[49m\u001b[43mproducers\u001b[49m\u001b[38;5;241;43m=\u001b[39;49m\u001b[43m{\u001b[49m\u001b[38;5;124;43m\"\u001b[39;49m\u001b[38;5;124;43mname\u001b[39;49m\u001b[38;5;124;43m\"\u001b[39;49m\u001b[43m:\u001b[49m\u001b[43m \u001b[49m\u001b[38;5;124;43m\"\u001b[39;49m\u001b[38;5;124;43mexample_agency\u001b[39;49m\u001b[38;5;124;43m\"\u001b[39;49m\u001b[43m}\u001b[49m\u001b[43m)\u001b[49m\n",
      "File \u001b[1;32mc:\\Users\\wb625523\\sources\\pyMetadataEditor\\.venv\\Lib\\site-packages\\pydantic\\main.py:176\u001b[0m, in \u001b[0;36mBaseModel.__init__\u001b[1;34m(self, **data)\u001b[0m\n\u001b[0;32m    174\u001b[0m \u001b[38;5;66;03m# `__tracebackhide__` tells pytest and some other tools to omit this function from tracebacks\u001b[39;00m\n\u001b[0;32m    175\u001b[0m __tracebackhide__ \u001b[38;5;241m=\u001b[39m \u001b[38;5;28;01mTrue\u001b[39;00m\n\u001b[1;32m--> 176\u001b[0m \u001b[38;5;28;43mself\u001b[39;49m\u001b[38;5;241;43m.\u001b[39;49m\u001b[43m__pydantic_validator__\u001b[49m\u001b[38;5;241;43m.\u001b[39;49m\u001b[43mvalidate_python\u001b[49m\u001b[43m(\u001b[49m\u001b[43mdata\u001b[49m\u001b[43m,\u001b[49m\u001b[43m \u001b[49m\u001b[43mself_instance\u001b[49m\u001b[38;5;241;43m=\u001b[39;49m\u001b[38;5;28;43mself\u001b[39;49m\u001b[43m)\u001b[49m\n",
      "\u001b[1;31mValidationError\u001b[0m: 2 validation errors for MetadataInformation\ntitle\n  Input should be a valid string [type=string_type, input_value=17, input_type=int]\n    For further information visit https://errors.pydantic.dev/2.7/v/string_type\nproducers\n  Input should be a valid list [type=list_type, input_value={'name': 'example_agency'}, input_type=dict]\n    For further information visit https://errors.pydantic.dev/2.7/v/list_type"
     ]
    }
   ],
   "source": [
    "ms.MetadataInformation(title=17, producers={\"name\": \"example_agency\"})"
   ]
  },
  {
   "cell_type": "markdown",
   "metadata": {},
   "source": [
    "### Popups can tell you the fields of each metadata type\n",
    "\n",
    "With this tool, you don't need to look up the documentation as much"
   ]
  },
  {
   "attachments": {
    "image.png": {
     "image/png": "[encoded data removed]"
    }
   },
   "cell_type": "markdown",
   "metadata": {},
   "source": [
    "![image.png](attachment:image.png)"
   ]
  }
 ],
 "metadata": {
  "kernelspec": {
   "display_name": ".venv",
   "language": "python",
   "name": "python3"
  },
  "language_info": {
   "codemirror_mode": {
    "name": "ipython",
    "version": 3
   },
   "file_extension": ".py",
   "mimetype": "text/x-python",
   "name": "python",
   "nbconvert_exporter": "python",
   "pygments_lexer": "ipython3",
   "version": "3.11.9"
  }
 },
 "nbformat": 4,
 "nbformat_minor": 2
}
